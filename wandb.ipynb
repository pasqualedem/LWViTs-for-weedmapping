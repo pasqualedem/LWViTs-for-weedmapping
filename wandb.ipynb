{
 "cells": [
  {
   "cell_type": "code",
   "execution_count": 2,
   "metadata": {
    "collapsed": false,
    "pycharm": {
     "name": "#%%\n"
    }
   },
   "outputs": [],
   "source": [
    "import numpy as np\n",
    "import pandas as pd\n",
    "import wandb\n",
    "from ezdl.utils.utilities import mlflow_linearize"
   ]
  },
  {
   "cell_type": "code",
   "execution_count": 3,
   "metadata": {
    "collapsed": false,
    "pycharm": {
     "name": "#%%\n"
    }
   },
   "outputs": [],
   "source": [
    "api = wandb.Api()"
   ]
  },
  {
   "cell_type": "code",
   "execution_count": 16,
   "metadata": {
    "collapsed": false,
    "pycharm": {
     "name": "#%%\n"
    }
   },
   "outputs": [],
   "source": [
    "from IPython.core.display_functions import display\n",
    "\n",
    "\n",
    "def get_runs(run_filters, project=\"pasqualedem/weeddetection\"):\n",
    "    # Project is specified by <entity/project-name>\n",
    "    runs = api.runs(project, filters=run_filters)\n",
    "\n",
    "    summary_list, config_list, name_list = [], [], []\n",
    "    for run in runs:\n",
    "        # .summary contains the output keys/values for metrics like accuracy.\n",
    "        #  We call ._json_dict to omit large files\n",
    "        summary_list.append(run.summary._json_dict)\n",
    "\n",
    "        # .config contains the hyperparameters.\n",
    "        #  We remove special values that start with _.\n",
    "        config_list.append(\n",
    "            {k: v for k,v in run.config.items()\n",
    "              if not k.startswith('_')})\n",
    "\n",
    "        # .name is the human-readable name of the run.\n",
    "        name_list.append(run.name)\n",
    "    df = pd.DataFrame([{**mlflow_linearize(dc), **mlflow_linearize(ds)} for dc, ds in zip(config_list, summary_list)])\n",
    "    return df\n",
    "\n",
    "def remove_hyp(df):\n",
    "    to_delete = filter(lambda x: x.startswith('hyper_params'), df.columns)\n",
    "    display(list(to_delete))\n",
    "    for l in to_delete:\n",
    "        df.drop(l, inplace=True)\n",
    "\n",
    "def rename_values(df: pd.DataFrame, vrenamings: dict):\n",
    "    for column, values in vrenamings.items():\n",
    "        if column in df.columns:\n",
    "            df[column] = df[column].replace(values)"
   ]
  },
  {
   "cell_type": "code",
   "execution_count": 45,
   "metadata": {
    "collapsed": false,
    "pycharm": {
     "name": "#%%\n"
    }
   },
   "outputs": [],
   "source": [
    "renamings = {\n",
    "    'in_params.dataset.channels': 'Channels',\n",
    "    'in_params.train_params.optimizer_params.weight_decay': \"Weight Decay\",\n",
    "    \"in_params.model.params.side_pretrained\": \"Multispectral Pretraining\",\n",
    "    'in_params.train_params.initial_lr': 'LR',\n",
    "    'in_params.model.name': 'Model',\n",
    "    'in_params.model.params.backbone': 'Backbone',\n",
    "    'in_params.train_params.freeze_pretrained': 'Strategy',\n",
    "    'in_params.model.params.main_pretrained': 'Used Weights',\n",
    "    'train_WrapF1': 'Train F1',\n",
    "    'f1': 'F1',\n",
    "    'in_params.dataset.batch_size': 'Batch Size',\n",
    "    'precision': 'Precision',\n",
    "    'in_params.train_params.loss.params.gamma': 'Gamma',\n",
    "    'in_params.model.params.fusion_type': 'Fusion',\n",
    "    'recall': 'Recall'\n",
    "}\n",
    "value_renamings = {\n",
    "    'Strategy': {True: 'Freeze', False: 'Fine-Tuning'},\n",
    "    'DropPath': {'conv_sum_drop': 'Conv Drop', 'conv_sum': 'Conv', \"squeeze_excite\": \"SE\"},\n",
    "    'Model': {\"wd/models/splitlawin\": \"SplitLawin\", \"splitlawin\": \"SplitLawin\"}\n",
    "}\n",
    "channels_ordering = {\n",
    "    \"G, NDVI, NIR, R, RE\" : 1,\n",
    "    \"R, G, NIR, RE\": 2,\n",
    "    \"R, G, RE, NIR\": 2,\n",
    "    \"R, G, RE\": 3,\n",
    "    \"G, NIR, R\": 3,\n",
    "    \"R, G, NIR\": 4,\n",
    "    \"R, G, NDVI\": 5,\n",
    "    \"R, G\": 6,\n",
    "    \"CIR\": 7,\n",
    "    \"NDVI\": 8,\n",
    "\n",
    "    'Fine-Tuning': 1,\n",
    "    'Freeze': 2,\n",
    "\n",
    "    'R': 1,\n",
    "    'G': 2,\n",
    "    'RGB': 2.5,\n",
    "    'G, G, R': 3,\n",
    "    'R, G, G, G': 4,\n",
    "\n",
    "    'MiT-B0': 0,\n",
    "    'MiT-B1': 1,\n",
    "    'lawin': 0,\n",
    "    'laweed': 1,\n",
    "    'doublelawin': 2,\n",
    "    'doublelaweed': 3,\n",
    "}"
   ]
  },
  {
   "attachments": {},
   "cell_type": "markdown",
   "metadata": {
    "collapsed": false,
    "pycharm": {
     "name": "#%% md\n"
    }
   },
   "source": []
  },
  {
   "attachments": {},
   "cell_type": "markdown",
   "metadata": {
    "collapsed": false,
    "pycharm": {
     "name": "#%% md\n"
    }
   },
   "source": [
    "## Lawin"
   ]
  },
  {
   "cell_type": "code",
   "execution_count": 6,
   "metadata": {
    "collapsed": false,
    "pycharm": {
     "name": "#%%\n"
    }
   },
   "outputs": [],
   "source": [
    "filters = {\n",
    "    'group': 'Lawin', 'config.in_params.model.params.backbone': 'MiT-B0'\n",
    "}\n",
    "selected_cols = [\n",
    "    'in_params.dataset.channels',\n",
    "    'in_params.train_params.optimizer_params.weight_decay',\n",
    "    'in_params.train_params.initial_lr',\n",
    "    # 'in_params.model.name',\n",
    "    'f1',\n",
    "    'precision',\n",
    "    'recall'\n",
    "]\n",
    "roundings = ['F1', 'Precision', 'Recall']"
   ]
  },
  {
   "cell_type": "code",
   "execution_count": 7,
   "metadata": {
    "collapsed": false,
    "pycharm": {
     "name": "#%%\n"
    }
   },
   "outputs": [
    {
     "data": {
      "text/plain": [
       "['hyper_params.arch_params.schema',\n",
       " 'hyper_params.arch_params.sync_bn',\n",
       " 'hyper_params.arch_params.backbone',\n",
       " 'hyper_params.arch_params.in_channels',\n",
       " 'hyper_params.arch_params.num_classes',\n",
       " 'hyper_params.arch_params.out_channels',\n",
       " 'hyper_params.arch_params.input_channels',\n",
       " 'hyper_params.arch_params.output_channels',\n",
       " 'hyper_params.dataset_params.root',\n",
       " 'hyper_params.dataset_params.size',\n",
       " 'hyper_params.dataset_params.schema',\n",
       " 'hyper_params.dataset_params.s3_link',\n",
       " 'hyper_params.dataset_params.channels',\n",
       " 'hyper_params.dataset_params.hor_flip',\n",
       " 'hyper_params.dataset_params.ver_flip',\n",
       " 'hyper_params.dataset_params.crop_size',\n",
       " 'hyper_params.dataset_params.batch_size',\n",
       " 'hyper_params.dataset_params.dataset_dir',\n",
       " 'hyper_params.dataset_params.num_classes',\n",
       " 'hyper_params.dataset_params.num_workers',\n",
       " 'hyper_params.dataset_params.return_path',\n",
       " 'hyper_params.dataset_params.test_folders',\n",
       " 'hyper_params.dataset_params.train_folders',\n",
       " 'hyper_params.dataset_params.val_batch_size',\n",
       " 'hyper_params.dataset_params.test_batch_size',\n",
       " 'hyper_params.additional_log_items.multi_gpu',\n",
       " 'hyper_params.additional_log_items.initial_LR',\n",
       " 'hyper_params.additional_log_items.device_type',\n",
       " 'hyper_params.additional_log_items.num_devices',\n",
       " 'hyper_params.additional_log_items.installed_packages',\n",
       " 'hyper_params.training_hyperparams.ema',\n",
       " 'hyper_params.training_hyperparams.loss',\n",
       " 'hyper_params.training_hyperparams.seed',\n",
       " 'hyper_params.training_hyperparams.schema.if.properties.lr_mode.const',\n",
       " 'hyper_params.training_hyperparams.schema.then.required',\n",
       " 'hyper_params.training_hyperparams.schema.type',\n",
       " 'hyper_params.training_hyperparams.schema.required',\n",
       " 'hyper_params.training_hyperparams.schema.properties.initial_lr.type',\n",
       " 'hyper_params.training_hyperparams.schema.properties.initial_lr.maximum',\n",
       " 'hyper_params.training_hyperparams.schema.properties.initial_lr.exclusiveMinimum',\n",
       " 'hyper_params.training_hyperparams.schema.properties.max_epochs.type',\n",
       " 'hyper_params.training_hyperparams.schema.properties.max_epochs.minimum',\n",
       " 'hyper_params.training_hyperparams.schema.properties.lr_decay_factor.type',\n",
       " 'hyper_params.training_hyperparams.schema.properties.lr_decay_factor.maximum',\n",
       " 'hyper_params.training_hyperparams.schema.properties.lr_decay_factor.minimum',\n",
       " 'hyper_params.training_hyperparams.schema.properties.lr_warmup_epochs.type',\n",
       " 'hyper_params.training_hyperparams.schema.properties.lr_warmup_epochs.maximum',\n",
       " 'hyper_params.training_hyperparams.schema.properties.lr_warmup_epochs.minimum',\n",
       " 'hyper_params.training_hyperparams.lr_mode',\n",
       " 'hyper_params.training_hyperparams.optimizer',\n",
       " 'hyper_params.training_hyperparams.sg_logger',\n",
       " 'hyper_params.training_hyperparams.initial_lr',\n",
       " 'hyper_params.training_hyperparams.lr_updates',\n",
       " 'hyper_params.training_hyperparams.max_epochs',\n",
       " 'hyper_params.training_hyperparams.precise_bn',\n",
       " 'hyper_params.training_hyperparams.save_model',\n",
       " 'hyper_params.training_hyperparams.silent_mode',\n",
       " 'hyper_params.training_hyperparams.warmup_mode',\n",
       " 'hyper_params.training_hyperparams.load_opt_params',\n",
       " 'hyper_params.training_hyperparams.metric_to_watch',\n",
       " 'hyper_params.training_hyperparams.mixed_precision',\n",
       " 'hyper_params.training_hyperparams.phase_callbacks',\n",
       " 'hyper_params.training_hyperparams.batch_accumulate',\n",
       " 'hyper_params.training_hyperparams.lr_warmup_epochs',\n",
       " 'hyper_params.training_hyperparams.optimizer_params.weight_decay',\n",
       " 'hyper_params.training_hyperparams.sg_logger_params.tags',\n",
       " 'hyper_params.training_hyperparams.sg_logger_params.entity',\n",
       " 'hyper_params.training_hyperparams.sg_logger_params.project_name',\n",
       " 'hyper_params.training_hyperparams.sg_logger_params.save_logs_remote',\n",
       " 'hyper_params.training_hyperparams.sg_logger_params.tensorboard_port',\n",
       " 'hyper_params.training_hyperparams.sg_logger_params.launch_tensorboard',\n",
       " 'hyper_params.training_hyperparams.sg_logger_params.tb_files_user_prompt',\n",
       " 'hyper_params.training_hyperparams.sg_logger_params.save_checkpoints_remote',\n",
       " 'hyper_params.training_hyperparams.sg_logger_params.save_tensorboard_remote',\n",
       " 'hyper_params.training_hyperparams.tensorboard_port',\n",
       " 'hyper_params.training_hyperparams.warmup_initial_lr',\n",
       " 'hyper_params.training_hyperparams.dataset_statistics',\n",
       " 'hyper_params.training_hyperparams.launch_tensorboard',\n",
       " 'hyper_params.training_hyperparams.train_metrics_list',\n",
       " 'hyper_params.training_hyperparams.valid_metrics_list',\n",
       " 'hyper_params.training_hyperparams.average_best_models',\n",
       " 'hyper_params.training_hyperparams.run_validation_freq',\n",
       " 'hyper_params.training_hyperparams.save_full_train_log',\n",
       " 'hyper_params.training_hyperparams.step_lr_update_freq',\n",
       " 'hyper_params.training_hyperparams.lr_schedule_function',\n",
       " 'hyper_params.training_hyperparams.save_ckpt_epoch_list',\n",
       " 'hyper_params.training_hyperparams.tb_files_user_prompt',\n",
       " 'hyper_params.training_hyperparams.cosine_final_lr_ratio',\n",
       " 'hyper_params.training_hyperparams.precise_bn_batch_size',\n",
       " 'hyper_params.training_hyperparams.log_installed_packages',\n",
       " 'hyper_params.training_hyperparams.save_tensorboard_to_s3',\n",
       " 'hyper_params.training_hyperparams.loss_logging_items_names',\n",
       " 'hyper_params.training_hyperparams.zero_weight_decay_on_bias_and_bn',\n",
       " 'hyper_params.training_hyperparams.greater_metric_to_watch_is_better']"
      ]
     },
     "metadata": {},
     "output_type": "display_data"
    }
   ],
   "source": [
    "runs_df = get_runs(filters)\n",
    "remove_hyp(runs_df)"
   ]
  },
  {
   "cell_type": "code",
   "execution_count": 8,
   "metadata": {
    "collapsed": false,
    "pycharm": {
     "name": "#%%\n"
    }
   },
   "outputs": [
    {
     "data": {
      "text/html": [
       "<div>\n",
       "<style scoped>\n",
       "    .dataframe tbody tr th:only-of-type {\n",
       "        vertical-align: middle;\n",
       "    }\n",
       "\n",
       "    .dataframe tbody tr th {\n",
       "        vertical-align: top;\n",
       "    }\n",
       "\n",
       "    .dataframe thead th {\n",
       "        text-align: right;\n",
       "    }\n",
       "</style>\n",
       "<table border=\"1\" class=\"dataframe\">\n",
       "  <thead>\n",
       "    <tr style=\"text-align: right;\">\n",
       "      <th></th>\n",
       "      <th>in_params.tags</th>\n",
       "      <th>in_params.model.name</th>\n",
       "      <th>in_params.model.params.backbone</th>\n",
       "      <th>in_params.phases</th>\n",
       "      <th>in_params.dataset.root</th>\n",
       "      <th>in_params.dataset.size</th>\n",
       "      <th>in_params.dataset.channels</th>\n",
       "      <th>in_params.dataset.hor_flip</th>\n",
       "      <th>in_params.dataset.ver_flip</th>\n",
       "      <th>in_params.dataset.crop_size</th>\n",
       "      <th>...</th>\n",
       "      <th>007_frame0127.png.masks.ground_truth.path</th>\n",
       "      <th>007_frame0127.png.masks.ground_truth.size</th>\n",
       "      <th>007_frame0127.png.masks.ground_truth._type</th>\n",
       "      <th>007_frame0127.png.masks.ground_truth.sha256</th>\n",
       "      <th>007_frame0127.png.width</th>\n",
       "      <th>007_frame0127.png.format</th>\n",
       "      <th>007_frame0127.png.height</th>\n",
       "      <th>007_frame0127.png.sha256</th>\n",
       "      <th>007_frame0127.png.path</th>\n",
       "      <th>007_frame0127.png.size</th>\n",
       "    </tr>\n",
       "  </thead>\n",
       "  <tbody>\n",
       "    <tr>\n",
       "      <th>0</th>\n",
       "      <td>[crop, B0]</td>\n",
       "      <td>lawin</td>\n",
       "      <td>MiT-B0</td>\n",
       "      <td>[train, test]</td>\n",
       "      <td>dataset/processed/Sequoia</td>\n",
       "      <td>same</td>\n",
       "      <td>[G, NDVI, NIR, R, RE]</td>\n",
       "      <td>True</td>\n",
       "      <td>True</td>\n",
       "      <td>[256, 256]</td>\n",
       "      <td>...</td>\n",
       "      <td>media/images/mask/007_frame0127.png_289_39962c...</td>\n",
       "      <td>141</td>\n",
       "      <td>mask</td>\n",
       "      <td>39962cd5bc9f4f0446341d3e6e0c6c37336ddeb2e026a1...</td>\n",
       "      <td>256</td>\n",
       "      <td>png</td>\n",
       "      <td>256</td>\n",
       "      <td>14ee441eaa69dac0509faa25d878e3e1326862dd5fc6fc...</td>\n",
       "      <td>media/images/007_frame0127.png_289_14ee441eaa6...</td>\n",
       "      <td>86823</td>\n",
       "    </tr>\n",
       "    <tr>\n",
       "      <th>1</th>\n",
       "      <td>[crop, B0]</td>\n",
       "      <td>lawin</td>\n",
       "      <td>MiT-B0</td>\n",
       "      <td>[train, test]</td>\n",
       "      <td>dataset/processed/Sequoia</td>\n",
       "      <td>same</td>\n",
       "      <td>[R, G, RE, NIR]</td>\n",
       "      <td>True</td>\n",
       "      <td>True</td>\n",
       "      <td>[256, 256]</td>\n",
       "      <td>...</td>\n",
       "      <td>media/images/mask/007_frame0127.png_527_39962c...</td>\n",
       "      <td>141</td>\n",
       "      <td>mask</td>\n",
       "      <td>39962cd5bc9f4f0446341d3e6e0c6c37336ddeb2e026a1...</td>\n",
       "      <td>256</td>\n",
       "      <td>png</td>\n",
       "      <td>256</td>\n",
       "      <td>83fe2021a0ae2feb36455a99983b01cdd8c1f0e3f43e9e...</td>\n",
       "      <td>media/images/007_frame0127.png_527_83fe2021a0a...</td>\n",
       "      <td>87294</td>\n",
       "    </tr>\n",
       "    <tr>\n",
       "      <th>2</th>\n",
       "      <td>[crop, B0]</td>\n",
       "      <td>lawin</td>\n",
       "      <td>MiT-B0</td>\n",
       "      <td>[train, test]</td>\n",
       "      <td>dataset/processed/Sequoia</td>\n",
       "      <td>same</td>\n",
       "      <td>[G, NIR, R]</td>\n",
       "      <td>True</td>\n",
       "      <td>True</td>\n",
       "      <td>[256, 256]</td>\n",
       "      <td>...</td>\n",
       "      <td>media/images/mask/007_frame0127.png_765_39962c...</td>\n",
       "      <td>141</td>\n",
       "      <td>mask</td>\n",
       "      <td>39962cd5bc9f4f0446341d3e6e0c6c37336ddeb2e026a1...</td>\n",
       "      <td>256</td>\n",
       "      <td>png</td>\n",
       "      <td>256</td>\n",
       "      <td>1cd957d0a56461589f836419dc0c8f24f712a70a2dad52...</td>\n",
       "      <td>media/images/007_frame0127.png_765_1cd957d0a56...</td>\n",
       "      <td>80870</td>\n",
       "    </tr>\n",
       "    <tr>\n",
       "      <th>3</th>\n",
       "      <td>[crop, B0]</td>\n",
       "      <td>lawin</td>\n",
       "      <td>MiT-B0</td>\n",
       "      <td>[train, test]</td>\n",
       "      <td>dataset/processed/Sequoia</td>\n",
       "      <td>same</td>\n",
       "      <td>CIR</td>\n",
       "      <td>True</td>\n",
       "      <td>True</td>\n",
       "      <td>[256, 256]</td>\n",
       "      <td>...</td>\n",
       "      <td>media/images/mask/007_frame0127.png_583_39962c...</td>\n",
       "      <td>141</td>\n",
       "      <td>mask</td>\n",
       "      <td>39962cd5bc9f4f0446341d3e6e0c6c37336ddeb2e026a1...</td>\n",
       "      <td>256</td>\n",
       "      <td>png</td>\n",
       "      <td>256</td>\n",
       "      <td>81fbac38de0b450e20925e14a1046ecad27128611f71fe...</td>\n",
       "      <td>media/images/007_frame0127.png_583_81fbac38de0...</td>\n",
       "      <td>81676</td>\n",
       "    </tr>\n",
       "    <tr>\n",
       "      <th>4</th>\n",
       "      <td>[crop, B0]</td>\n",
       "      <td>lawin</td>\n",
       "      <td>MiT-B0</td>\n",
       "      <td>[train, test]</td>\n",
       "      <td>dataset/processed/Sequoia</td>\n",
       "      <td>same</td>\n",
       "      <td>[NDVI]</td>\n",
       "      <td>True</td>\n",
       "      <td>True</td>\n",
       "      <td>[256, 256]</td>\n",
       "      <td>...</td>\n",
       "      <td>media/images/mask/007_frame0127.png_527_39962c...</td>\n",
       "      <td>141</td>\n",
       "      <td>mask</td>\n",
       "      <td>39962cd5bc9f4f0446341d3e6e0c6c37336ddeb2e026a1...</td>\n",
       "      <td>256</td>\n",
       "      <td>png</td>\n",
       "      <td>256</td>\n",
       "      <td>cd596b0f014d1138faacdfa34b991cb54180b759aa6e34...</td>\n",
       "      <td>media/images/007_frame0127.png_527_cd596b0f014...</td>\n",
       "      <td>44953</td>\n",
       "    </tr>\n",
       "    <tr>\n",
       "      <th>5</th>\n",
       "      <td>[crop, B0]</td>\n",
       "      <td>lawin</td>\n",
       "      <td>MiT-B0</td>\n",
       "      <td>[train, test]</td>\n",
       "      <td>dataset/processed/Sequoia</td>\n",
       "      <td>same</td>\n",
       "      <td>[R, G]</td>\n",
       "      <td>True</td>\n",
       "      <td>True</td>\n",
       "      <td>[256, 256]</td>\n",
       "      <td>...</td>\n",
       "      <td>media/images/mask/007_frame0127.png_583_39962c...</td>\n",
       "      <td>141</td>\n",
       "      <td>mask</td>\n",
       "      <td>39962cd5bc9f4f0446341d3e6e0c6c37336ddeb2e026a1...</td>\n",
       "      <td>256</td>\n",
       "      <td>png</td>\n",
       "      <td>256</td>\n",
       "      <td>bef071e40865bca5fc2f7f6cafee772eb0896f2bc32a5b...</td>\n",
       "      <td>media/images/007_frame0127.png_583_bef071e4086...</td>\n",
       "      <td>62279</td>\n",
       "    </tr>\n",
       "    <tr>\n",
       "      <th>6</th>\n",
       "      <td>[crop, B0]</td>\n",
       "      <td>lawin</td>\n",
       "      <td>MiT-B0</td>\n",
       "      <td>[train, test]</td>\n",
       "      <td>dataset/processed/Sequoia</td>\n",
       "      <td>same</td>\n",
       "      <td>[G, NDVI, NIR, R, RE]</td>\n",
       "      <td>True</td>\n",
       "      <td>True</td>\n",
       "      <td>[256, 256]</td>\n",
       "      <td>...</td>\n",
       "      <td>media/images/mask/007_frame0127.png_681_39962c...</td>\n",
       "      <td>141</td>\n",
       "      <td>mask</td>\n",
       "      <td>39962cd5bc9f4f0446341d3e6e0c6c37336ddeb2e026a1...</td>\n",
       "      <td>256</td>\n",
       "      <td>png</td>\n",
       "      <td>256</td>\n",
       "      <td>9100ff54aac385fd1d8f83a92edb531e8f6f7db81fbfc9...</td>\n",
       "      <td>media/images/007_frame0127.png_681_9100ff54aac...</td>\n",
       "      <td>87984</td>\n",
       "    </tr>\n",
       "    <tr>\n",
       "      <th>7</th>\n",
       "      <td>[crop, B0]</td>\n",
       "      <td>lawin</td>\n",
       "      <td>MiT-B0</td>\n",
       "      <td>[train, test]</td>\n",
       "      <td>dataset/processed/Sequoia</td>\n",
       "      <td>same</td>\n",
       "      <td>[R, G, RE, NIR]</td>\n",
       "      <td>True</td>\n",
       "      <td>True</td>\n",
       "      <td>[256, 256]</td>\n",
       "      <td>...</td>\n",
       "      <td>media/images/mask/007_frame0127.png_667_39962c...</td>\n",
       "      <td>141</td>\n",
       "      <td>mask</td>\n",
       "      <td>39962cd5bc9f4f0446341d3e6e0c6c37336ddeb2e026a1...</td>\n",
       "      <td>256</td>\n",
       "      <td>png</td>\n",
       "      <td>256</td>\n",
       "      <td>c24dd25d28b413f53be928718a44de448c0989bf64759e...</td>\n",
       "      <td>media/images/007_frame0127.png_667_c24dd25d28b...</td>\n",
       "      <td>84622</td>\n",
       "    </tr>\n",
       "    <tr>\n",
       "      <th>8</th>\n",
       "      <td>[crop, B0]</td>\n",
       "      <td>lawin</td>\n",
       "      <td>MiT-B0</td>\n",
       "      <td>[train, test]</td>\n",
       "      <td>dataset/processed/Sequoia</td>\n",
       "      <td>same</td>\n",
       "      <td>[G, NIR, R]</td>\n",
       "      <td>True</td>\n",
       "      <td>True</td>\n",
       "      <td>[256, 256]</td>\n",
       "      <td>...</td>\n",
       "      <td>media/images/mask/007_frame0127.png_681_39962c...</td>\n",
       "      <td>141</td>\n",
       "      <td>mask</td>\n",
       "      <td>39962cd5bc9f4f0446341d3e6e0c6c37336ddeb2e026a1...</td>\n",
       "      <td>256</td>\n",
       "      <td>png</td>\n",
       "      <td>256</td>\n",
       "      <td>f653be4528c184fabbc4ed799239f74b3da1448a4198cb...</td>\n",
       "      <td>media/images/007_frame0127.png_681_f653be4528c...</td>\n",
       "      <td>82495</td>\n",
       "    </tr>\n",
       "    <tr>\n",
       "      <th>9</th>\n",
       "      <td>[crop, B0]</td>\n",
       "      <td>lawin</td>\n",
       "      <td>MiT-B0</td>\n",
       "      <td>[train, test]</td>\n",
       "      <td>dataset/processed/Sequoia</td>\n",
       "      <td>same</td>\n",
       "      <td>CIR</td>\n",
       "      <td>True</td>\n",
       "      <td>True</td>\n",
       "      <td>[256, 256]</td>\n",
       "      <td>...</td>\n",
       "      <td>media/images/mask/007_frame0127.png_583_39962c...</td>\n",
       "      <td>141</td>\n",
       "      <td>mask</td>\n",
       "      <td>39962cd5bc9f4f0446341d3e6e0c6c37336ddeb2e026a1...</td>\n",
       "      <td>256</td>\n",
       "      <td>png</td>\n",
       "      <td>256</td>\n",
       "      <td>81fbac38de0b450e20925e14a1046ecad27128611f71fe...</td>\n",
       "      <td>media/images/007_frame0127.png_583_81fbac38de0...</td>\n",
       "      <td>81676</td>\n",
       "    </tr>\n",
       "    <tr>\n",
       "      <th>10</th>\n",
       "      <td>[crop, B0]</td>\n",
       "      <td>lawin</td>\n",
       "      <td>MiT-B0</td>\n",
       "      <td>[train, test]</td>\n",
       "      <td>dataset/processed/Sequoia</td>\n",
       "      <td>same</td>\n",
       "      <td>[NDVI]</td>\n",
       "      <td>True</td>\n",
       "      <td>True</td>\n",
       "      <td>[256, 256]</td>\n",
       "      <td>...</td>\n",
       "      <td>media/images/mask/007_frame0127.png_457_39962c...</td>\n",
       "      <td>141</td>\n",
       "      <td>mask</td>\n",
       "      <td>39962cd5bc9f4f0446341d3e6e0c6c37336ddeb2e026a1...</td>\n",
       "      <td>256</td>\n",
       "      <td>png</td>\n",
       "      <td>256</td>\n",
       "      <td>c934c3635218d8a0b8361f98defa3c9fd306232f041c9a...</td>\n",
       "      <td>media/images/007_frame0127.png_457_c934c363521...</td>\n",
       "      <td>43123</td>\n",
       "    </tr>\n",
       "    <tr>\n",
       "      <th>11</th>\n",
       "      <td>[crop, B0]</td>\n",
       "      <td>lawin</td>\n",
       "      <td>MiT-B0</td>\n",
       "      <td>[train, test]</td>\n",
       "      <td>dataset/processed/Sequoia</td>\n",
       "      <td>same</td>\n",
       "      <td>[R, G]</td>\n",
       "      <td>True</td>\n",
       "      <td>True</td>\n",
       "      <td>[256, 256]</td>\n",
       "      <td>...</td>\n",
       "      <td>media/images/mask/007_frame0127.png_583_39962c...</td>\n",
       "      <td>141</td>\n",
       "      <td>mask</td>\n",
       "      <td>39962cd5bc9f4f0446341d3e6e0c6c37336ddeb2e026a1...</td>\n",
       "      <td>256</td>\n",
       "      <td>png</td>\n",
       "      <td>256</td>\n",
       "      <td>bef071e40865bca5fc2f7f6cafee772eb0896f2bc32a5b...</td>\n",
       "      <td>media/images/007_frame0127.png_583_bef071e4086...</td>\n",
       "      <td>62279</td>\n",
       "    </tr>\n",
       "    <tr>\n",
       "      <th>12</th>\n",
       "      <td>[crop, B0]</td>\n",
       "      <td>lawin</td>\n",
       "      <td>MiT-B0</td>\n",
       "      <td>[train, test]</td>\n",
       "      <td>dataset/processed/Sequoia</td>\n",
       "      <td>same</td>\n",
       "      <td>[G, NDVI, NIR, R, RE]</td>\n",
       "      <td>True</td>\n",
       "      <td>True</td>\n",
       "      <td>[256, 256]</td>\n",
       "      <td>...</td>\n",
       "      <td>media/images/mask/007_frame0127.png_415_39962c...</td>\n",
       "      <td>141</td>\n",
       "      <td>mask</td>\n",
       "      <td>39962cd5bc9f4f0446341d3e6e0c6c37336ddeb2e026a1...</td>\n",
       "      <td>256</td>\n",
       "      <td>png</td>\n",
       "      <td>256</td>\n",
       "      <td>e396af0901e52d5b690c2159652ca72693b6ef3e4e2a78...</td>\n",
       "      <td>media/images/007_frame0127.png_415_e396af0901e...</td>\n",
       "      <td>86705</td>\n",
       "    </tr>\n",
       "    <tr>\n",
       "      <th>13</th>\n",
       "      <td>[crop, B0]</td>\n",
       "      <td>lawin</td>\n",
       "      <td>MiT-B0</td>\n",
       "      <td>[train, test]</td>\n",
       "      <td>dataset/processed/Sequoia</td>\n",
       "      <td>same</td>\n",
       "      <td>[R, G, RE, NIR]</td>\n",
       "      <td>True</td>\n",
       "      <td>True</td>\n",
       "      <td>[256, 256]</td>\n",
       "      <td>...</td>\n",
       "      <td>media/images/mask/007_frame0127.png_303_39962c...</td>\n",
       "      <td>141</td>\n",
       "      <td>mask</td>\n",
       "      <td>39962cd5bc9f4f0446341d3e6e0c6c37336ddeb2e026a1...</td>\n",
       "      <td>256</td>\n",
       "      <td>png</td>\n",
       "      <td>256</td>\n",
       "      <td>f3af4cfc7ab318f2570b212979cca0d8844c334ed2c1e5...</td>\n",
       "      <td>media/images/007_frame0127.png_303_f3af4cfc7ab...</td>\n",
       "      <td>85704</td>\n",
       "    </tr>\n",
       "    <tr>\n",
       "      <th>14</th>\n",
       "      <td>[crop, B0]</td>\n",
       "      <td>lawin</td>\n",
       "      <td>MiT-B0</td>\n",
       "      <td>[train, test]</td>\n",
       "      <td>dataset/processed/Sequoia</td>\n",
       "      <td>same</td>\n",
       "      <td>[G, NIR, R]</td>\n",
       "      <td>True</td>\n",
       "      <td>True</td>\n",
       "      <td>[256, 256]</td>\n",
       "      <td>...</td>\n",
       "      <td>media/images/mask/007_frame0127.png_303_39962c...</td>\n",
       "      <td>141</td>\n",
       "      <td>mask</td>\n",
       "      <td>39962cd5bc9f4f0446341d3e6e0c6c37336ddeb2e026a1...</td>\n",
       "      <td>256</td>\n",
       "      <td>png</td>\n",
       "      <td>256</td>\n",
       "      <td>1e40f05ececdc811edf69f2944be79d1aa03a9f13d3ff6...</td>\n",
       "      <td>media/images/007_frame0127.png_303_1e40f05ecec...</td>\n",
       "      <td>82059</td>\n",
       "    </tr>\n",
       "    <tr>\n",
       "      <th>15</th>\n",
       "      <td>[crop, B0]</td>\n",
       "      <td>lawin</td>\n",
       "      <td>MiT-B0</td>\n",
       "      <td>[train, test]</td>\n",
       "      <td>dataset/processed/Sequoia</td>\n",
       "      <td>same</td>\n",
       "      <td>CIR</td>\n",
       "      <td>True</td>\n",
       "      <td>True</td>\n",
       "      <td>[256, 256]</td>\n",
       "      <td>...</td>\n",
       "      <td>media/images/mask/007_frame0127.png_373_39962c...</td>\n",
       "      <td>141</td>\n",
       "      <td>mask</td>\n",
       "      <td>39962cd5bc9f4f0446341d3e6e0c6c37336ddeb2e026a1...</td>\n",
       "      <td>256</td>\n",
       "      <td>png</td>\n",
       "      <td>256</td>\n",
       "      <td>9554e3c6c3e65c2c9f21a877131deba74ecfba4dc7916e...</td>\n",
       "      <td>media/images/007_frame0127.png_373_9554e3c6c3e...</td>\n",
       "      <td>81604</td>\n",
       "    </tr>\n",
       "    <tr>\n",
       "      <th>16</th>\n",
       "      <td>[crop, B0]</td>\n",
       "      <td>lawin</td>\n",
       "      <td>MiT-B0</td>\n",
       "      <td>[train, test]</td>\n",
       "      <td>dataset/processed/Sequoia</td>\n",
       "      <td>same</td>\n",
       "      <td>[NDVI]</td>\n",
       "      <td>True</td>\n",
       "      <td>True</td>\n",
       "      <td>[256, 256]</td>\n",
       "      <td>...</td>\n",
       "      <td>media/images/mask/007_frame0127.png_303_39962c...</td>\n",
       "      <td>141</td>\n",
       "      <td>mask</td>\n",
       "      <td>39962cd5bc9f4f0446341d3e6e0c6c37336ddeb2e026a1...</td>\n",
       "      <td>256</td>\n",
       "      <td>png</td>\n",
       "      <td>256</td>\n",
       "      <td>fabc104ae85d07fe1d6aa71e7b760799721a3983dad808...</td>\n",
       "      <td>media/images/007_frame0127.png_303_fabc104ae85...</td>\n",
       "      <td>43580</td>\n",
       "    </tr>\n",
       "    <tr>\n",
       "      <th>17</th>\n",
       "      <td>[crop, B0]</td>\n",
       "      <td>lawin</td>\n",
       "      <td>MiT-B0</td>\n",
       "      <td>[train, test]</td>\n",
       "      <td>dataset/processed/Sequoia</td>\n",
       "      <td>same</td>\n",
       "      <td>[R, G]</td>\n",
       "      <td>True</td>\n",
       "      <td>True</td>\n",
       "      <td>[256, 256]</td>\n",
       "      <td>...</td>\n",
       "      <td>media/images/mask/007_frame0127.png_331_39962c...</td>\n",
       "      <td>141</td>\n",
       "      <td>mask</td>\n",
       "      <td>39962cd5bc9f4f0446341d3e6e0c6c37336ddeb2e026a1...</td>\n",
       "      <td>256</td>\n",
       "      <td>png</td>\n",
       "      <td>256</td>\n",
       "      <td>01c853226f98b69925360352a39f21a40aa875450a8406...</td>\n",
       "      <td>media/images/007_frame0127.png_331_01c853226f9...</td>\n",
       "      <td>65506</td>\n",
       "    </tr>\n",
       "    <tr>\n",
       "      <th>18</th>\n",
       "      <td>[crop, B0]</td>\n",
       "      <td>lawin</td>\n",
       "      <td>MiT-B0</td>\n",
       "      <td>[train, test]</td>\n",
       "      <td>dataset/processed/Sequoia</td>\n",
       "      <td>same</td>\n",
       "      <td>[G, NDVI, NIR, R, RE]</td>\n",
       "      <td>True</td>\n",
       "      <td>True</td>\n",
       "      <td>[256, 256]</td>\n",
       "      <td>...</td>\n",
       "      <td>media/images/mask/007_frame0127.png_583_39962c...</td>\n",
       "      <td>141</td>\n",
       "      <td>mask</td>\n",
       "      <td>39962cd5bc9f4f0446341d3e6e0c6c37336ddeb2e026a1...</td>\n",
       "      <td>256</td>\n",
       "      <td>png</td>\n",
       "      <td>256</td>\n",
       "      <td>4aefedad7f4346aca11b6eba4f17585154e1e1fbfa3eb5...</td>\n",
       "      <td>media/images/007_frame0127.png_583_4aefedad7f4...</td>\n",
       "      <td>86863</td>\n",
       "    </tr>\n",
       "    <tr>\n",
       "      <th>19</th>\n",
       "      <td>[crop, B0]</td>\n",
       "      <td>lawin</td>\n",
       "      <td>MiT-B0</td>\n",
       "      <td>[train, test]</td>\n",
       "      <td>dataset/processed/Sequoia</td>\n",
       "      <td>same</td>\n",
       "      <td>[R, G, RE, NIR]</td>\n",
       "      <td>True</td>\n",
       "      <td>True</td>\n",
       "      <td>[256, 256]</td>\n",
       "      <td>...</td>\n",
       "      <td>media/images/mask/007_frame0127.png_331_39962c...</td>\n",
       "      <td>141</td>\n",
       "      <td>mask</td>\n",
       "      <td>39962cd5bc9f4f0446341d3e6e0c6c37336ddeb2e026a1...</td>\n",
       "      <td>256</td>\n",
       "      <td>png</td>\n",
       "      <td>256</td>\n",
       "      <td>187ed1dbe98fd9ff887fd1fc9a9d2d17f31db41ed7977e...</td>\n",
       "      <td>media/images/007_frame0127.png_331_187ed1dbe98...</td>\n",
       "      <td>87164</td>\n",
       "    </tr>\n",
       "    <tr>\n",
       "      <th>20</th>\n",
       "      <td>[crop, B0]</td>\n",
       "      <td>lawin</td>\n",
       "      <td>MiT-B0</td>\n",
       "      <td>[train, test]</td>\n",
       "      <td>dataset/processed/Sequoia</td>\n",
       "      <td>same</td>\n",
       "      <td>[G, NIR, R]</td>\n",
       "      <td>True</td>\n",
       "      <td>True</td>\n",
       "      <td>[256, 256]</td>\n",
       "      <td>...</td>\n",
       "      <td>media/images/mask/007_frame0127.png_415_39962c...</td>\n",
       "      <td>141</td>\n",
       "      <td>mask</td>\n",
       "      <td>39962cd5bc9f4f0446341d3e6e0c6c37336ddeb2e026a1...</td>\n",
       "      <td>256</td>\n",
       "      <td>png</td>\n",
       "      <td>256</td>\n",
       "      <td>939d2dce0c76168d66733c2f268c9a795f8999b351e4e5...</td>\n",
       "      <td>media/images/007_frame0127.png_415_939d2dce0c7...</td>\n",
       "      <td>81956</td>\n",
       "    </tr>\n",
       "    <tr>\n",
       "      <th>21</th>\n",
       "      <td>[crop, B0]</td>\n",
       "      <td>lawin</td>\n",
       "      <td>MiT-B0</td>\n",
       "      <td>[train, test]</td>\n",
       "      <td>dataset/processed/Sequoia</td>\n",
       "      <td>same</td>\n",
       "      <td>CIR</td>\n",
       "      <td>True</td>\n",
       "      <td>True</td>\n",
       "      <td>[256, 256]</td>\n",
       "      <td>...</td>\n",
       "      <td>media/images/mask/007_frame0127.png_415_39962c...</td>\n",
       "      <td>141</td>\n",
       "      <td>mask</td>\n",
       "      <td>39962cd5bc9f4f0446341d3e6e0c6c37336ddeb2e026a1...</td>\n",
       "      <td>256</td>\n",
       "      <td>png</td>\n",
       "      <td>256</td>\n",
       "      <td>466bc7ac5674f46b8893d60140efad825279d1b63c131b...</td>\n",
       "      <td>media/images/007_frame0127.png_415_466bc7ac567...</td>\n",
       "      <td>81952</td>\n",
       "    </tr>\n",
       "    <tr>\n",
       "      <th>22</th>\n",
       "      <td>[crop, B0]</td>\n",
       "      <td>lawin</td>\n",
       "      <td>MiT-B0</td>\n",
       "      <td>[train, test]</td>\n",
       "      <td>dataset/processed/Sequoia</td>\n",
       "      <td>same</td>\n",
       "      <td>[NDVI]</td>\n",
       "      <td>True</td>\n",
       "      <td>True</td>\n",
       "      <td>[256, 256]</td>\n",
       "      <td>...</td>\n",
       "      <td>media/images/mask/007_frame0127.png_289_39962c...</td>\n",
       "      <td>141</td>\n",
       "      <td>mask</td>\n",
       "      <td>39962cd5bc9f4f0446341d3e6e0c6c37336ddeb2e026a1...</td>\n",
       "      <td>256</td>\n",
       "      <td>png</td>\n",
       "      <td>256</td>\n",
       "      <td>886a0dc479ca5ef843854595744ed3e55535a8d75dc154...</td>\n",
       "      <td>media/images/007_frame0127.png_289_886a0dc479c...</td>\n",
       "      <td>41974</td>\n",
       "    </tr>\n",
       "    <tr>\n",
       "      <th>23</th>\n",
       "      <td>[crop, B0]</td>\n",
       "      <td>lawin</td>\n",
       "      <td>MiT-B0</td>\n",
       "      <td>[train, test]</td>\n",
       "      <td>dataset/processed/Sequoia</td>\n",
       "      <td>same</td>\n",
       "      <td>[R, G]</td>\n",
       "      <td>True</td>\n",
       "      <td>True</td>\n",
       "      <td>[256, 256]</td>\n",
       "      <td>...</td>\n",
       "      <td>media/images/mask/007_frame0127.png_317_39962c...</td>\n",
       "      <td>141</td>\n",
       "      <td>mask</td>\n",
       "      <td>39962cd5bc9f4f0446341d3e6e0c6c37336ddeb2e026a1...</td>\n",
       "      <td>256</td>\n",
       "      <td>png</td>\n",
       "      <td>256</td>\n",
       "      <td>edc8eacac55c2d6ea4744725e60458cc2f1de76cb79bc2...</td>\n",
       "      <td>media/images/007_frame0127.png_317_edc8eacac55...</td>\n",
       "      <td>64267</td>\n",
       "    </tr>\n",
       "  </tbody>\n",
       "</table>\n",
       "<p>24 rows × 385 columns</p>\n",
       "</div>"
      ],
      "text/plain": [
       "   in_params.tags in_params.model.name in_params.model.params.backbone  \\\n",
       "0      [crop, B0]                lawin                          MiT-B0   \n",
       "1      [crop, B0]                lawin                          MiT-B0   \n",
       "2      [crop, B0]                lawin                          MiT-B0   \n",
       "3      [crop, B0]                lawin                          MiT-B0   \n",
       "4      [crop, B0]                lawin                          MiT-B0   \n",
       "5      [crop, B0]                lawin                          MiT-B0   \n",
       "6      [crop, B0]                lawin                          MiT-B0   \n",
       "7      [crop, B0]                lawin                          MiT-B0   \n",
       "8      [crop, B0]                lawin                          MiT-B0   \n",
       "9      [crop, B0]                lawin                          MiT-B0   \n",
       "10     [crop, B0]                lawin                          MiT-B0   \n",
       "11     [crop, B0]                lawin                          MiT-B0   \n",
       "12     [crop, B0]                lawin                          MiT-B0   \n",
       "13     [crop, B0]                lawin                          MiT-B0   \n",
       "14     [crop, B0]                lawin                          MiT-B0   \n",
       "15     [crop, B0]                lawin                          MiT-B0   \n",
       "16     [crop, B0]                lawin                          MiT-B0   \n",
       "17     [crop, B0]                lawin                          MiT-B0   \n",
       "18     [crop, B0]                lawin                          MiT-B0   \n",
       "19     [crop, B0]                lawin                          MiT-B0   \n",
       "20     [crop, B0]                lawin                          MiT-B0   \n",
       "21     [crop, B0]                lawin                          MiT-B0   \n",
       "22     [crop, B0]                lawin                          MiT-B0   \n",
       "23     [crop, B0]                lawin                          MiT-B0   \n",
       "\n",
       "   in_params.phases     in_params.dataset.root in_params.dataset.size  \\\n",
       "0     [train, test]  dataset/processed/Sequoia                   same   \n",
       "1     [train, test]  dataset/processed/Sequoia                   same   \n",
       "2     [train, test]  dataset/processed/Sequoia                   same   \n",
       "3     [train, test]  dataset/processed/Sequoia                   same   \n",
       "4     [train, test]  dataset/processed/Sequoia                   same   \n",
       "5     [train, test]  dataset/processed/Sequoia                   same   \n",
       "6     [train, test]  dataset/processed/Sequoia                   same   \n",
       "7     [train, test]  dataset/processed/Sequoia                   same   \n",
       "8     [train, test]  dataset/processed/Sequoia                   same   \n",
       "9     [train, test]  dataset/processed/Sequoia                   same   \n",
       "10    [train, test]  dataset/processed/Sequoia                   same   \n",
       "11    [train, test]  dataset/processed/Sequoia                   same   \n",
       "12    [train, test]  dataset/processed/Sequoia                   same   \n",
       "13    [train, test]  dataset/processed/Sequoia                   same   \n",
       "14    [train, test]  dataset/processed/Sequoia                   same   \n",
       "15    [train, test]  dataset/processed/Sequoia                   same   \n",
       "16    [train, test]  dataset/processed/Sequoia                   same   \n",
       "17    [train, test]  dataset/processed/Sequoia                   same   \n",
       "18    [train, test]  dataset/processed/Sequoia                   same   \n",
       "19    [train, test]  dataset/processed/Sequoia                   same   \n",
       "20    [train, test]  dataset/processed/Sequoia                   same   \n",
       "21    [train, test]  dataset/processed/Sequoia                   same   \n",
       "22    [train, test]  dataset/processed/Sequoia                   same   \n",
       "23    [train, test]  dataset/processed/Sequoia                   same   \n",
       "\n",
       "   in_params.dataset.channels  in_params.dataset.hor_flip  \\\n",
       "0       [G, NDVI, NIR, R, RE]                        True   \n",
       "1             [R, G, RE, NIR]                        True   \n",
       "2                 [G, NIR, R]                        True   \n",
       "3                         CIR                        True   \n",
       "4                      [NDVI]                        True   \n",
       "5                      [R, G]                        True   \n",
       "6       [G, NDVI, NIR, R, RE]                        True   \n",
       "7             [R, G, RE, NIR]                        True   \n",
       "8                 [G, NIR, R]                        True   \n",
       "9                         CIR                        True   \n",
       "10                     [NDVI]                        True   \n",
       "11                     [R, G]                        True   \n",
       "12      [G, NDVI, NIR, R, RE]                        True   \n",
       "13            [R, G, RE, NIR]                        True   \n",
       "14                [G, NIR, R]                        True   \n",
       "15                        CIR                        True   \n",
       "16                     [NDVI]                        True   \n",
       "17                     [R, G]                        True   \n",
       "18      [G, NDVI, NIR, R, RE]                        True   \n",
       "19            [R, G, RE, NIR]                        True   \n",
       "20                [G, NIR, R]                        True   \n",
       "21                        CIR                        True   \n",
       "22                     [NDVI]                        True   \n",
       "23                     [R, G]                        True   \n",
       "\n",
       "    in_params.dataset.ver_flip in_params.dataset.crop_size  ...  \\\n",
       "0                         True                  [256, 256]  ...   \n",
       "1                         True                  [256, 256]  ...   \n",
       "2                         True                  [256, 256]  ...   \n",
       "3                         True                  [256, 256]  ...   \n",
       "4                         True                  [256, 256]  ...   \n",
       "5                         True                  [256, 256]  ...   \n",
       "6                         True                  [256, 256]  ...   \n",
       "7                         True                  [256, 256]  ...   \n",
       "8                         True                  [256, 256]  ...   \n",
       "9                         True                  [256, 256]  ...   \n",
       "10                        True                  [256, 256]  ...   \n",
       "11                        True                  [256, 256]  ...   \n",
       "12                        True                  [256, 256]  ...   \n",
       "13                        True                  [256, 256]  ...   \n",
       "14                        True                  [256, 256]  ...   \n",
       "15                        True                  [256, 256]  ...   \n",
       "16                        True                  [256, 256]  ...   \n",
       "17                        True                  [256, 256]  ...   \n",
       "18                        True                  [256, 256]  ...   \n",
       "19                        True                  [256, 256]  ...   \n",
       "20                        True                  [256, 256]  ...   \n",
       "21                        True                  [256, 256]  ...   \n",
       "22                        True                  [256, 256]  ...   \n",
       "23                        True                  [256, 256]  ...   \n",
       "\n",
       "            007_frame0127.png.masks.ground_truth.path  \\\n",
       "0   media/images/mask/007_frame0127.png_289_39962c...   \n",
       "1   media/images/mask/007_frame0127.png_527_39962c...   \n",
       "2   media/images/mask/007_frame0127.png_765_39962c...   \n",
       "3   media/images/mask/007_frame0127.png_583_39962c...   \n",
       "4   media/images/mask/007_frame0127.png_527_39962c...   \n",
       "5   media/images/mask/007_frame0127.png_583_39962c...   \n",
       "6   media/images/mask/007_frame0127.png_681_39962c...   \n",
       "7   media/images/mask/007_frame0127.png_667_39962c...   \n",
       "8   media/images/mask/007_frame0127.png_681_39962c...   \n",
       "9   media/images/mask/007_frame0127.png_583_39962c...   \n",
       "10  media/images/mask/007_frame0127.png_457_39962c...   \n",
       "11  media/images/mask/007_frame0127.png_583_39962c...   \n",
       "12  media/images/mask/007_frame0127.png_415_39962c...   \n",
       "13  media/images/mask/007_frame0127.png_303_39962c...   \n",
       "14  media/images/mask/007_frame0127.png_303_39962c...   \n",
       "15  media/images/mask/007_frame0127.png_373_39962c...   \n",
       "16  media/images/mask/007_frame0127.png_303_39962c...   \n",
       "17  media/images/mask/007_frame0127.png_331_39962c...   \n",
       "18  media/images/mask/007_frame0127.png_583_39962c...   \n",
       "19  media/images/mask/007_frame0127.png_331_39962c...   \n",
       "20  media/images/mask/007_frame0127.png_415_39962c...   \n",
       "21  media/images/mask/007_frame0127.png_415_39962c...   \n",
       "22  media/images/mask/007_frame0127.png_289_39962c...   \n",
       "23  media/images/mask/007_frame0127.png_317_39962c...   \n",
       "\n",
       "    007_frame0127.png.masks.ground_truth.size  \\\n",
       "0                                         141   \n",
       "1                                         141   \n",
       "2                                         141   \n",
       "3                                         141   \n",
       "4                                         141   \n",
       "5                                         141   \n",
       "6                                         141   \n",
       "7                                         141   \n",
       "8                                         141   \n",
       "9                                         141   \n",
       "10                                        141   \n",
       "11                                        141   \n",
       "12                                        141   \n",
       "13                                        141   \n",
       "14                                        141   \n",
       "15                                        141   \n",
       "16                                        141   \n",
       "17                                        141   \n",
       "18                                        141   \n",
       "19                                        141   \n",
       "20                                        141   \n",
       "21                                        141   \n",
       "22                                        141   \n",
       "23                                        141   \n",
       "\n",
       "    007_frame0127.png.masks.ground_truth._type  \\\n",
       "0                                         mask   \n",
       "1                                         mask   \n",
       "2                                         mask   \n",
       "3                                         mask   \n",
       "4                                         mask   \n",
       "5                                         mask   \n",
       "6                                         mask   \n",
       "7                                         mask   \n",
       "8                                         mask   \n",
       "9                                         mask   \n",
       "10                                        mask   \n",
       "11                                        mask   \n",
       "12                                        mask   \n",
       "13                                        mask   \n",
       "14                                        mask   \n",
       "15                                        mask   \n",
       "16                                        mask   \n",
       "17                                        mask   \n",
       "18                                        mask   \n",
       "19                                        mask   \n",
       "20                                        mask   \n",
       "21                                        mask   \n",
       "22                                        mask   \n",
       "23                                        mask   \n",
       "\n",
       "          007_frame0127.png.masks.ground_truth.sha256 007_frame0127.png.width  \\\n",
       "0   39962cd5bc9f4f0446341d3e6e0c6c37336ddeb2e026a1...                     256   \n",
       "1   39962cd5bc9f4f0446341d3e6e0c6c37336ddeb2e026a1...                     256   \n",
       "2   39962cd5bc9f4f0446341d3e6e0c6c37336ddeb2e026a1...                     256   \n",
       "3   39962cd5bc9f4f0446341d3e6e0c6c37336ddeb2e026a1...                     256   \n",
       "4   39962cd5bc9f4f0446341d3e6e0c6c37336ddeb2e026a1...                     256   \n",
       "5   39962cd5bc9f4f0446341d3e6e0c6c37336ddeb2e026a1...                     256   \n",
       "6   39962cd5bc9f4f0446341d3e6e0c6c37336ddeb2e026a1...                     256   \n",
       "7   39962cd5bc9f4f0446341d3e6e0c6c37336ddeb2e026a1...                     256   \n",
       "8   39962cd5bc9f4f0446341d3e6e0c6c37336ddeb2e026a1...                     256   \n",
       "9   39962cd5bc9f4f0446341d3e6e0c6c37336ddeb2e026a1...                     256   \n",
       "10  39962cd5bc9f4f0446341d3e6e0c6c37336ddeb2e026a1...                     256   \n",
       "11  39962cd5bc9f4f0446341d3e6e0c6c37336ddeb2e026a1...                     256   \n",
       "12  39962cd5bc9f4f0446341d3e6e0c6c37336ddeb2e026a1...                     256   \n",
       "13  39962cd5bc9f4f0446341d3e6e0c6c37336ddeb2e026a1...                     256   \n",
       "14  39962cd5bc9f4f0446341d3e6e0c6c37336ddeb2e026a1...                     256   \n",
       "15  39962cd5bc9f4f0446341d3e6e0c6c37336ddeb2e026a1...                     256   \n",
       "16  39962cd5bc9f4f0446341d3e6e0c6c37336ddeb2e026a1...                     256   \n",
       "17  39962cd5bc9f4f0446341d3e6e0c6c37336ddeb2e026a1...                     256   \n",
       "18  39962cd5bc9f4f0446341d3e6e0c6c37336ddeb2e026a1...                     256   \n",
       "19  39962cd5bc9f4f0446341d3e6e0c6c37336ddeb2e026a1...                     256   \n",
       "20  39962cd5bc9f4f0446341d3e6e0c6c37336ddeb2e026a1...                     256   \n",
       "21  39962cd5bc9f4f0446341d3e6e0c6c37336ddeb2e026a1...                     256   \n",
       "22  39962cd5bc9f4f0446341d3e6e0c6c37336ddeb2e026a1...                     256   \n",
       "23  39962cd5bc9f4f0446341d3e6e0c6c37336ddeb2e026a1...                     256   \n",
       "\n",
       "   007_frame0127.png.format  007_frame0127.png.height  \\\n",
       "0                       png                       256   \n",
       "1                       png                       256   \n",
       "2                       png                       256   \n",
       "3                       png                       256   \n",
       "4                       png                       256   \n",
       "5                       png                       256   \n",
       "6                       png                       256   \n",
       "7                       png                       256   \n",
       "8                       png                       256   \n",
       "9                       png                       256   \n",
       "10                      png                       256   \n",
       "11                      png                       256   \n",
       "12                      png                       256   \n",
       "13                      png                       256   \n",
       "14                      png                       256   \n",
       "15                      png                       256   \n",
       "16                      png                       256   \n",
       "17                      png                       256   \n",
       "18                      png                       256   \n",
       "19                      png                       256   \n",
       "20                      png                       256   \n",
       "21                      png                       256   \n",
       "22                      png                       256   \n",
       "23                      png                       256   \n",
       "\n",
       "                             007_frame0127.png.sha256  \\\n",
       "0   14ee441eaa69dac0509faa25d878e3e1326862dd5fc6fc...   \n",
       "1   83fe2021a0ae2feb36455a99983b01cdd8c1f0e3f43e9e...   \n",
       "2   1cd957d0a56461589f836419dc0c8f24f712a70a2dad52...   \n",
       "3   81fbac38de0b450e20925e14a1046ecad27128611f71fe...   \n",
       "4   cd596b0f014d1138faacdfa34b991cb54180b759aa6e34...   \n",
       "5   bef071e40865bca5fc2f7f6cafee772eb0896f2bc32a5b...   \n",
       "6   9100ff54aac385fd1d8f83a92edb531e8f6f7db81fbfc9...   \n",
       "7   c24dd25d28b413f53be928718a44de448c0989bf64759e...   \n",
       "8   f653be4528c184fabbc4ed799239f74b3da1448a4198cb...   \n",
       "9   81fbac38de0b450e20925e14a1046ecad27128611f71fe...   \n",
       "10  c934c3635218d8a0b8361f98defa3c9fd306232f041c9a...   \n",
       "11  bef071e40865bca5fc2f7f6cafee772eb0896f2bc32a5b...   \n",
       "12  e396af0901e52d5b690c2159652ca72693b6ef3e4e2a78...   \n",
       "13  f3af4cfc7ab318f2570b212979cca0d8844c334ed2c1e5...   \n",
       "14  1e40f05ececdc811edf69f2944be79d1aa03a9f13d3ff6...   \n",
       "15  9554e3c6c3e65c2c9f21a877131deba74ecfba4dc7916e...   \n",
       "16  fabc104ae85d07fe1d6aa71e7b760799721a3983dad808...   \n",
       "17  01c853226f98b69925360352a39f21a40aa875450a8406...   \n",
       "18  4aefedad7f4346aca11b6eba4f17585154e1e1fbfa3eb5...   \n",
       "19  187ed1dbe98fd9ff887fd1fc9a9d2d17f31db41ed7977e...   \n",
       "20  939d2dce0c76168d66733c2f268c9a795f8999b351e4e5...   \n",
       "21  466bc7ac5674f46b8893d60140efad825279d1b63c131b...   \n",
       "22  886a0dc479ca5ef843854595744ed3e55535a8d75dc154...   \n",
       "23  edc8eacac55c2d6ea4744725e60458cc2f1de76cb79bc2...   \n",
       "\n",
       "                               007_frame0127.png.path 007_frame0127.png.size  \n",
       "0   media/images/007_frame0127.png_289_14ee441eaa6...                  86823  \n",
       "1   media/images/007_frame0127.png_527_83fe2021a0a...                  87294  \n",
       "2   media/images/007_frame0127.png_765_1cd957d0a56...                  80870  \n",
       "3   media/images/007_frame0127.png_583_81fbac38de0...                  81676  \n",
       "4   media/images/007_frame0127.png_527_cd596b0f014...                  44953  \n",
       "5   media/images/007_frame0127.png_583_bef071e4086...                  62279  \n",
       "6   media/images/007_frame0127.png_681_9100ff54aac...                  87984  \n",
       "7   media/images/007_frame0127.png_667_c24dd25d28b...                  84622  \n",
       "8   media/images/007_frame0127.png_681_f653be4528c...                  82495  \n",
       "9   media/images/007_frame0127.png_583_81fbac38de0...                  81676  \n",
       "10  media/images/007_frame0127.png_457_c934c363521...                  43123  \n",
       "11  media/images/007_frame0127.png_583_bef071e4086...                  62279  \n",
       "12  media/images/007_frame0127.png_415_e396af0901e...                  86705  \n",
       "13  media/images/007_frame0127.png_303_f3af4cfc7ab...                  85704  \n",
       "14  media/images/007_frame0127.png_303_1e40f05ecec...                  82059  \n",
       "15  media/images/007_frame0127.png_373_9554e3c6c3e...                  81604  \n",
       "16  media/images/007_frame0127.png_303_fabc104ae85...                  43580  \n",
       "17  media/images/007_frame0127.png_331_01c853226f9...                  65506  \n",
       "18  media/images/007_frame0127.png_583_4aefedad7f4...                  86863  \n",
       "19  media/images/007_frame0127.png_331_187ed1dbe98...                  87164  \n",
       "20  media/images/007_frame0127.png_415_939d2dce0c7...                  81956  \n",
       "21  media/images/007_frame0127.png_415_466bc7ac567...                  81952  \n",
       "22  media/images/007_frame0127.png_289_886a0dc479c...                  41974  \n",
       "23  media/images/007_frame0127.png_317_edc8eacac55...                  64267  \n",
       "\n",
       "[24 rows x 385 columns]"
      ]
     },
     "execution_count": 8,
     "metadata": {},
     "output_type": "execute_result"
    }
   ],
   "source": [
    "runs_df"
   ]
  },
  {
   "cell_type": "code",
   "execution_count": 9,
   "metadata": {
    "collapsed": false,
    "pycharm": {
     "name": "#%%\n"
    }
   },
   "outputs": [],
   "source": [
    "projected_runs = runs_df[\n",
    "    selected_cols\n",
    "]"
   ]
  },
  {
   "cell_type": "code",
   "execution_count": 10,
   "metadata": {
    "collapsed": false,
    "pycharm": {
     "name": "#%%\n"
    }
   },
   "outputs": [],
   "source": [
    "# selected_runs = projected_runs[projected_runs['in_params.model.params.backbone'] == 'MiT-B0']\n",
    "selected_runs = projected_runs"
   ]
  },
  {
   "cell_type": "code",
   "execution_count": 11,
   "metadata": {
    "collapsed": false,
    "pycharm": {
     "name": "#%%\n"
    }
   },
   "outputs": [
    {
     "data": {
      "text/html": [
       "<div>\n",
       "<style scoped>\n",
       "    .dataframe tbody tr th:only-of-type {\n",
       "        vertical-align: middle;\n",
       "    }\n",
       "\n",
       "    .dataframe tbody tr th {\n",
       "        vertical-align: top;\n",
       "    }\n",
       "\n",
       "    .dataframe thead th {\n",
       "        text-align: right;\n",
       "    }\n",
       "</style>\n",
       "<table border=\"1\" class=\"dataframe\">\n",
       "  <thead>\n",
       "    <tr style=\"text-align: right;\">\n",
       "      <th></th>\n",
       "      <th>in_params.dataset.channels</th>\n",
       "      <th>in_params.train_params.optimizer_params.weight_decay</th>\n",
       "      <th>in_params.train_params.initial_lr</th>\n",
       "      <th>f1</th>\n",
       "      <th>precision</th>\n",
       "      <th>recall</th>\n",
       "    </tr>\n",
       "  </thead>\n",
       "  <tbody>\n",
       "    <tr>\n",
       "      <th>0</th>\n",
       "      <td>[G, NDVI, NIR, R, RE]</td>\n",
       "      <td>0.0005</td>\n",
       "      <td>0.0001</td>\n",
       "      <td>0.326794</td>\n",
       "      <td>0.345053</td>\n",
       "      <td>0.465314</td>\n",
       "    </tr>\n",
       "    <tr>\n",
       "      <th>1</th>\n",
       "      <td>[R, G, RE, NIR]</td>\n",
       "      <td>0.0005</td>\n",
       "      <td>0.0001</td>\n",
       "      <td>0.377526</td>\n",
       "      <td>0.705026</td>\n",
       "      <td>0.357784</td>\n",
       "    </tr>\n",
       "    <tr>\n",
       "      <th>2</th>\n",
       "      <td>[G, NIR, R]</td>\n",
       "      <td>0.0005</td>\n",
       "      <td>0.0001</td>\n",
       "      <td>0.357331</td>\n",
       "      <td>0.499817</td>\n",
       "      <td>0.348049</td>\n",
       "    </tr>\n",
       "    <tr>\n",
       "      <th>3</th>\n",
       "      <td>CIR</td>\n",
       "      <td>0.0005</td>\n",
       "      <td>0.0001</td>\n",
       "      <td>0.404106</td>\n",
       "      <td>0.428261</td>\n",
       "      <td>0.403309</td>\n",
       "    </tr>\n",
       "    <tr>\n",
       "      <th>4</th>\n",
       "      <td>[NDVI]</td>\n",
       "      <td>0.0005</td>\n",
       "      <td>0.0001</td>\n",
       "      <td>0.331022</td>\n",
       "      <td>0.338566</td>\n",
       "      <td>0.456207</td>\n",
       "    </tr>\n",
       "    <tr>\n",
       "      <th>5</th>\n",
       "      <td>[R, G]</td>\n",
       "      <td>0.0005</td>\n",
       "      <td>0.0001</td>\n",
       "      <td>0.356745</td>\n",
       "      <td>0.390026</td>\n",
       "      <td>0.434191</td>\n",
       "    </tr>\n",
       "    <tr>\n",
       "      <th>6</th>\n",
       "      <td>[G, NDVI, NIR, R, RE]</td>\n",
       "      <td>0.0000</td>\n",
       "      <td>0.0001</td>\n",
       "      <td>0.338468</td>\n",
       "      <td>0.390821</td>\n",
       "      <td>0.496304</td>\n",
       "    </tr>\n",
       "    <tr>\n",
       "      <th>7</th>\n",
       "      <td>[R, G, RE, NIR]</td>\n",
       "      <td>0.0000</td>\n",
       "      <td>0.0001</td>\n",
       "      <td>0.372336</td>\n",
       "      <td>0.573994</td>\n",
       "      <td>0.355982</td>\n",
       "    </tr>\n",
       "    <tr>\n",
       "      <th>8</th>\n",
       "      <td>[G, NIR, R]</td>\n",
       "      <td>0.0000</td>\n",
       "      <td>0.0001</td>\n",
       "      <td>0.371983</td>\n",
       "      <td>0.444056</td>\n",
       "      <td>0.481801</td>\n",
       "    </tr>\n",
       "    <tr>\n",
       "      <th>9</th>\n",
       "      <td>CIR</td>\n",
       "      <td>0.0000</td>\n",
       "      <td>0.0001</td>\n",
       "      <td>0.369274</td>\n",
       "      <td>0.399371</td>\n",
       "      <td>0.358478</td>\n",
       "    </tr>\n",
       "    <tr>\n",
       "      <th>10</th>\n",
       "      <td>[NDVI]</td>\n",
       "      <td>0.0000</td>\n",
       "      <td>0.0001</td>\n",
       "      <td>0.325224</td>\n",
       "      <td>0.355304</td>\n",
       "      <td>0.529422</td>\n",
       "    </tr>\n",
       "    <tr>\n",
       "      <th>11</th>\n",
       "      <td>[R, G]</td>\n",
       "      <td>0.0000</td>\n",
       "      <td>0.0001</td>\n",
       "      <td>0.387183</td>\n",
       "      <td>0.509588</td>\n",
       "      <td>0.494369</td>\n",
       "    </tr>\n",
       "    <tr>\n",
       "      <th>12</th>\n",
       "      <td>[G, NDVI, NIR, R, RE]</td>\n",
       "      <td>0.0005</td>\n",
       "      <td>0.0010</td>\n",
       "      <td>0.336833</td>\n",
       "      <td>0.427961</td>\n",
       "      <td>0.511803</td>\n",
       "    </tr>\n",
       "    <tr>\n",
       "      <th>13</th>\n",
       "      <td>[R, G, RE, NIR]</td>\n",
       "      <td>0.0005</td>\n",
       "      <td>0.0010</td>\n",
       "      <td>0.378040</td>\n",
       "      <td>0.416440</td>\n",
       "      <td>0.369071</td>\n",
       "    </tr>\n",
       "    <tr>\n",
       "      <th>14</th>\n",
       "      <td>[G, NIR, R]</td>\n",
       "      <td>0.0005</td>\n",
       "      <td>0.0010</td>\n",
       "      <td>0.399803</td>\n",
       "      <td>0.542601</td>\n",
       "      <td>0.377764</td>\n",
       "    </tr>\n",
       "    <tr>\n",
       "      <th>15</th>\n",
       "      <td>CIR</td>\n",
       "      <td>0.0005</td>\n",
       "      <td>0.0010</td>\n",
       "      <td>0.326359</td>\n",
       "      <td>0.340781</td>\n",
       "      <td>0.450325</td>\n",
       "    </tr>\n",
       "    <tr>\n",
       "      <th>16</th>\n",
       "      <td>[NDVI]</td>\n",
       "      <td>0.0005</td>\n",
       "      <td>0.0010</td>\n",
       "      <td>0.328708</td>\n",
       "      <td>0.339060</td>\n",
       "      <td>0.501390</td>\n",
       "    </tr>\n",
       "    <tr>\n",
       "      <th>17</th>\n",
       "      <td>[R, G]</td>\n",
       "      <td>0.0005</td>\n",
       "      <td>0.0010</td>\n",
       "      <td>0.388022</td>\n",
       "      <td>0.483523</td>\n",
       "      <td>0.405587</td>\n",
       "    </tr>\n",
       "    <tr>\n",
       "      <th>18</th>\n",
       "      <td>[G, NDVI, NIR, R, RE]</td>\n",
       "      <td>0.0000</td>\n",
       "      <td>0.0010</td>\n",
       "      <td>0.339523</td>\n",
       "      <td>0.370072</td>\n",
       "      <td>0.506148</td>\n",
       "    </tr>\n",
       "    <tr>\n",
       "      <th>19</th>\n",
       "      <td>[R, G, RE, NIR]</td>\n",
       "      <td>0.0000</td>\n",
       "      <td>0.0010</td>\n",
       "      <td>0.483167</td>\n",
       "      <td>0.484136</td>\n",
       "      <td>0.575876</td>\n",
       "    </tr>\n",
       "    <tr>\n",
       "      <th>20</th>\n",
       "      <td>[G, NIR, R]</td>\n",
       "      <td>0.0000</td>\n",
       "      <td>0.0010</td>\n",
       "      <td>0.381551</td>\n",
       "      <td>0.491686</td>\n",
       "      <td>0.452986</td>\n",
       "    </tr>\n",
       "    <tr>\n",
       "      <th>21</th>\n",
       "      <td>CIR</td>\n",
       "      <td>0.0000</td>\n",
       "      <td>0.0010</td>\n",
       "      <td>0.341725</td>\n",
       "      <td>0.380184</td>\n",
       "      <td>0.484049</td>\n",
       "    </tr>\n",
       "    <tr>\n",
       "      <th>22</th>\n",
       "      <td>[NDVI]</td>\n",
       "      <td>0.0000</td>\n",
       "      <td>0.0010</td>\n",
       "      <td>0.331372</td>\n",
       "      <td>0.334582</td>\n",
       "      <td>0.409402</td>\n",
       "    </tr>\n",
       "    <tr>\n",
       "      <th>23</th>\n",
       "      <td>[R, G]</td>\n",
       "      <td>0.0000</td>\n",
       "      <td>0.0010</td>\n",
       "      <td>0.436855</td>\n",
       "      <td>0.414089</td>\n",
       "      <td>0.623098</td>\n",
       "    </tr>\n",
       "  </tbody>\n",
       "</table>\n",
       "</div>"
      ],
      "text/plain": [
       "   in_params.dataset.channels  \\\n",
       "0       [G, NDVI, NIR, R, RE]   \n",
       "1             [R, G, RE, NIR]   \n",
       "2                 [G, NIR, R]   \n",
       "3                         CIR   \n",
       "4                      [NDVI]   \n",
       "5                      [R, G]   \n",
       "6       [G, NDVI, NIR, R, RE]   \n",
       "7             [R, G, RE, NIR]   \n",
       "8                 [G, NIR, R]   \n",
       "9                         CIR   \n",
       "10                     [NDVI]   \n",
       "11                     [R, G]   \n",
       "12      [G, NDVI, NIR, R, RE]   \n",
       "13            [R, G, RE, NIR]   \n",
       "14                [G, NIR, R]   \n",
       "15                        CIR   \n",
       "16                     [NDVI]   \n",
       "17                     [R, G]   \n",
       "18      [G, NDVI, NIR, R, RE]   \n",
       "19            [R, G, RE, NIR]   \n",
       "20                [G, NIR, R]   \n",
       "21                        CIR   \n",
       "22                     [NDVI]   \n",
       "23                     [R, G]   \n",
       "\n",
       "    in_params.train_params.optimizer_params.weight_decay  \\\n",
       "0                                              0.0005      \n",
       "1                                              0.0005      \n",
       "2                                              0.0005      \n",
       "3                                              0.0005      \n",
       "4                                              0.0005      \n",
       "5                                              0.0005      \n",
       "6                                              0.0000      \n",
       "7                                              0.0000      \n",
       "8                                              0.0000      \n",
       "9                                              0.0000      \n",
       "10                                             0.0000      \n",
       "11                                             0.0000      \n",
       "12                                             0.0005      \n",
       "13                                             0.0005      \n",
       "14                                             0.0005      \n",
       "15                                             0.0005      \n",
       "16                                             0.0005      \n",
       "17                                             0.0005      \n",
       "18                                             0.0000      \n",
       "19                                             0.0000      \n",
       "20                                             0.0000      \n",
       "21                                             0.0000      \n",
       "22                                             0.0000      \n",
       "23                                             0.0000      \n",
       "\n",
       "    in_params.train_params.initial_lr        f1  precision    recall  \n",
       "0                              0.0001  0.326794   0.345053  0.465314  \n",
       "1                              0.0001  0.377526   0.705026  0.357784  \n",
       "2                              0.0001  0.357331   0.499817  0.348049  \n",
       "3                              0.0001  0.404106   0.428261  0.403309  \n",
       "4                              0.0001  0.331022   0.338566  0.456207  \n",
       "5                              0.0001  0.356745   0.390026  0.434191  \n",
       "6                              0.0001  0.338468   0.390821  0.496304  \n",
       "7                              0.0001  0.372336   0.573994  0.355982  \n",
       "8                              0.0001  0.371983   0.444056  0.481801  \n",
       "9                              0.0001  0.369274   0.399371  0.358478  \n",
       "10                             0.0001  0.325224   0.355304  0.529422  \n",
       "11                             0.0001  0.387183   0.509588  0.494369  \n",
       "12                             0.0010  0.336833   0.427961  0.511803  \n",
       "13                             0.0010  0.378040   0.416440  0.369071  \n",
       "14                             0.0010  0.399803   0.542601  0.377764  \n",
       "15                             0.0010  0.326359   0.340781  0.450325  \n",
       "16                             0.0010  0.328708   0.339060  0.501390  \n",
       "17                             0.0010  0.388022   0.483523  0.405587  \n",
       "18                             0.0010  0.339523   0.370072  0.506148  \n",
       "19                             0.0010  0.483167   0.484136  0.575876  \n",
       "20                             0.0010  0.381551   0.491686  0.452986  \n",
       "21                             0.0010  0.341725   0.380184  0.484049  \n",
       "22                             0.0010  0.331372   0.334582  0.409402  \n",
       "23                             0.0010  0.436855   0.414089  0.623098  "
      ]
     },
     "execution_count": 11,
     "metadata": {},
     "output_type": "execute_result"
    }
   ],
   "source": [
    "selected_runs"
   ]
  },
  {
   "cell_type": "code",
   "execution_count": 12,
   "metadata": {
    "collapsed": false,
    "pycharm": {
     "name": "#%%\n"
    }
   },
   "outputs": [
    {
     "name": "stderr",
     "output_type": "stream",
     "text": [
      "/tmp/ipykernel_56297/2431484179.py:1: SettingWithCopyWarning: \n",
      "A value is trying to be set on a copy of a slice from a DataFrame\n",
      "\n",
      "See the caveats in the documentation: https://pandas.pydata.org/pandas-docs/stable/user_guide/indexing.html#returning-a-view-versus-a-copy\n",
      "  selected_runs.rename(columns=renamings, inplace=True)\n",
      "/tmp/ipykernel_56297/2431484179.py:2: SettingWithCopyWarning: \n",
      "A value is trying to be set on a copy of a slice from a DataFrame.\n",
      "Try using .loc[row_indexer,col_indexer] = value instead\n",
      "\n",
      "See the caveats in the documentation: https://pandas.pydata.org/pandas-docs/stable/user_guide/indexing.html#returning-a-view-versus-a-copy\n",
      "  selected_runs[roundings] = selected_runs[roundings].round(3)\n"
     ]
    }
   ],
   "source": [
    "selected_runs.rename(columns=renamings, inplace=True)\n",
    "selected_runs[roundings] = selected_runs[roundings].round(3)\n",
    "selected_runs = selected_runs.applymap(lambda x: ', '.join(x) if isinstance(x, list) else x)"
   ]
  },
  {
   "cell_type": "code",
   "execution_count": 13,
   "metadata": {
    "collapsed": false,
    "pycharm": {
     "name": "#%%\n"
    }
   },
   "outputs": [
    {
     "name": "stderr",
     "output_type": "stream",
     "text": [
      "/tmp/ipykernel_56297/2220297888.py:3: SettingWithCopyWarning: \n",
      "A value is trying to be set on a copy of a slice from a DataFrame\n",
      "\n",
      "See the caveats in the documentation: https://pandas.pydata.org/pandas-docs/stable/user_guide/indexing.html#returning-a-view-versus-a-copy\n",
      "  best_runs.sort_values(by=\"Channels\", key=lambda x: x.apply(lambda k: channels_ordering[k]), inplace=True)\n"
     ]
    }
   ],
   "source": [
    "idx = selected_runs.groupby(by='Channels')['F1'].transform(max) == selected_runs['F1']\n",
    "best_runs = selected_runs[idx]\n",
    "best_runs.sort_values(by=\"Channels\", key=lambda x: x.apply(lambda k: channels_ordering[k]), inplace=True)"
   ]
  },
  {
   "cell_type": "code",
   "execution_count": 14,
   "metadata": {
    "collapsed": false,
    "pycharm": {
     "name": "#%%\n"
    }
   },
   "outputs": [
    {
     "data": {
      "text/html": [
       "<div>\n",
       "<style scoped>\n",
       "    .dataframe tbody tr th:only-of-type {\n",
       "        vertical-align: middle;\n",
       "    }\n",
       "\n",
       "    .dataframe tbody tr th {\n",
       "        vertical-align: top;\n",
       "    }\n",
       "\n",
       "    .dataframe thead th {\n",
       "        text-align: right;\n",
       "    }\n",
       "</style>\n",
       "<table border=\"1\" class=\"dataframe\">\n",
       "  <thead>\n",
       "    <tr style=\"text-align: right;\">\n",
       "      <th></th>\n",
       "      <th>Channels</th>\n",
       "      <th>Weight Decay</th>\n",
       "      <th>LR</th>\n",
       "      <th>F1</th>\n",
       "      <th>Precision</th>\n",
       "      <th>Recall</th>\n",
       "    </tr>\n",
       "  </thead>\n",
       "  <tbody>\n",
       "    <tr>\n",
       "      <th>0</th>\n",
       "      <td>G, NDVI, NIR, R, RE</td>\n",
       "      <td>0.0005</td>\n",
       "      <td>0.0001</td>\n",
       "      <td>0.327</td>\n",
       "      <td>0.345</td>\n",
       "      <td>0.465</td>\n",
       "    </tr>\n",
       "    <tr>\n",
       "      <th>1</th>\n",
       "      <td>R, G, RE, NIR</td>\n",
       "      <td>0.0005</td>\n",
       "      <td>0.0001</td>\n",
       "      <td>0.378</td>\n",
       "      <td>0.705</td>\n",
       "      <td>0.358</td>\n",
       "    </tr>\n",
       "    <tr>\n",
       "      <th>2</th>\n",
       "      <td>G, NIR, R</td>\n",
       "      <td>0.0005</td>\n",
       "      <td>0.0001</td>\n",
       "      <td>0.357</td>\n",
       "      <td>0.500</td>\n",
       "      <td>0.348</td>\n",
       "    </tr>\n",
       "    <tr>\n",
       "      <th>3</th>\n",
       "      <td>CIR</td>\n",
       "      <td>0.0005</td>\n",
       "      <td>0.0001</td>\n",
       "      <td>0.404</td>\n",
       "      <td>0.428</td>\n",
       "      <td>0.403</td>\n",
       "    </tr>\n",
       "    <tr>\n",
       "      <th>4</th>\n",
       "      <td>NDVI</td>\n",
       "      <td>0.0005</td>\n",
       "      <td>0.0001</td>\n",
       "      <td>0.331</td>\n",
       "      <td>0.339</td>\n",
       "      <td>0.456</td>\n",
       "    </tr>\n",
       "    <tr>\n",
       "      <th>5</th>\n",
       "      <td>R, G</td>\n",
       "      <td>0.0005</td>\n",
       "      <td>0.0001</td>\n",
       "      <td>0.357</td>\n",
       "      <td>0.390</td>\n",
       "      <td>0.434</td>\n",
       "    </tr>\n",
       "    <tr>\n",
       "      <th>6</th>\n",
       "      <td>G, NDVI, NIR, R, RE</td>\n",
       "      <td>0.0000</td>\n",
       "      <td>0.0001</td>\n",
       "      <td>0.338</td>\n",
       "      <td>0.391</td>\n",
       "      <td>0.496</td>\n",
       "    </tr>\n",
       "    <tr>\n",
       "      <th>7</th>\n",
       "      <td>R, G, RE, NIR</td>\n",
       "      <td>0.0000</td>\n",
       "      <td>0.0001</td>\n",
       "      <td>0.372</td>\n",
       "      <td>0.574</td>\n",
       "      <td>0.356</td>\n",
       "    </tr>\n",
       "    <tr>\n",
       "      <th>8</th>\n",
       "      <td>G, NIR, R</td>\n",
       "      <td>0.0000</td>\n",
       "      <td>0.0001</td>\n",
       "      <td>0.372</td>\n",
       "      <td>0.444</td>\n",
       "      <td>0.482</td>\n",
       "    </tr>\n",
       "    <tr>\n",
       "      <th>9</th>\n",
       "      <td>CIR</td>\n",
       "      <td>0.0000</td>\n",
       "      <td>0.0001</td>\n",
       "      <td>0.369</td>\n",
       "      <td>0.399</td>\n",
       "      <td>0.358</td>\n",
       "    </tr>\n",
       "    <tr>\n",
       "      <th>10</th>\n",
       "      <td>NDVI</td>\n",
       "      <td>0.0000</td>\n",
       "      <td>0.0001</td>\n",
       "      <td>0.325</td>\n",
       "      <td>0.355</td>\n",
       "      <td>0.529</td>\n",
       "    </tr>\n",
       "    <tr>\n",
       "      <th>11</th>\n",
       "      <td>R, G</td>\n",
       "      <td>0.0000</td>\n",
       "      <td>0.0001</td>\n",
       "      <td>0.387</td>\n",
       "      <td>0.510</td>\n",
       "      <td>0.494</td>\n",
       "    </tr>\n",
       "    <tr>\n",
       "      <th>12</th>\n",
       "      <td>G, NDVI, NIR, R, RE</td>\n",
       "      <td>0.0005</td>\n",
       "      <td>0.0010</td>\n",
       "      <td>0.337</td>\n",
       "      <td>0.428</td>\n",
       "      <td>0.512</td>\n",
       "    </tr>\n",
       "    <tr>\n",
       "      <th>13</th>\n",
       "      <td>R, G, RE, NIR</td>\n",
       "      <td>0.0005</td>\n",
       "      <td>0.0010</td>\n",
       "      <td>0.378</td>\n",
       "      <td>0.416</td>\n",
       "      <td>0.369</td>\n",
       "    </tr>\n",
       "    <tr>\n",
       "      <th>14</th>\n",
       "      <td>G, NIR, R</td>\n",
       "      <td>0.0005</td>\n",
       "      <td>0.0010</td>\n",
       "      <td>0.400</td>\n",
       "      <td>0.543</td>\n",
       "      <td>0.378</td>\n",
       "    </tr>\n",
       "    <tr>\n",
       "      <th>15</th>\n",
       "      <td>CIR</td>\n",
       "      <td>0.0005</td>\n",
       "      <td>0.0010</td>\n",
       "      <td>0.326</td>\n",
       "      <td>0.341</td>\n",
       "      <td>0.450</td>\n",
       "    </tr>\n",
       "    <tr>\n",
       "      <th>16</th>\n",
       "      <td>NDVI</td>\n",
       "      <td>0.0005</td>\n",
       "      <td>0.0010</td>\n",
       "      <td>0.329</td>\n",
       "      <td>0.339</td>\n",
       "      <td>0.501</td>\n",
       "    </tr>\n",
       "    <tr>\n",
       "      <th>17</th>\n",
       "      <td>R, G</td>\n",
       "      <td>0.0005</td>\n",
       "      <td>0.0010</td>\n",
       "      <td>0.388</td>\n",
       "      <td>0.484</td>\n",
       "      <td>0.406</td>\n",
       "    </tr>\n",
       "    <tr>\n",
       "      <th>18</th>\n",
       "      <td>G, NDVI, NIR, R, RE</td>\n",
       "      <td>0.0000</td>\n",
       "      <td>0.0010</td>\n",
       "      <td>0.340</td>\n",
       "      <td>0.370</td>\n",
       "      <td>0.506</td>\n",
       "    </tr>\n",
       "    <tr>\n",
       "      <th>19</th>\n",
       "      <td>R, G, RE, NIR</td>\n",
       "      <td>0.0000</td>\n",
       "      <td>0.0010</td>\n",
       "      <td>0.483</td>\n",
       "      <td>0.484</td>\n",
       "      <td>0.576</td>\n",
       "    </tr>\n",
       "    <tr>\n",
       "      <th>20</th>\n",
       "      <td>G, NIR, R</td>\n",
       "      <td>0.0000</td>\n",
       "      <td>0.0010</td>\n",
       "      <td>0.382</td>\n",
       "      <td>0.492</td>\n",
       "      <td>0.453</td>\n",
       "    </tr>\n",
       "    <tr>\n",
       "      <th>21</th>\n",
       "      <td>CIR</td>\n",
       "      <td>0.0000</td>\n",
       "      <td>0.0010</td>\n",
       "      <td>0.342</td>\n",
       "      <td>0.380</td>\n",
       "      <td>0.484</td>\n",
       "    </tr>\n",
       "    <tr>\n",
       "      <th>22</th>\n",
       "      <td>NDVI</td>\n",
       "      <td>0.0000</td>\n",
       "      <td>0.0010</td>\n",
       "      <td>0.331</td>\n",
       "      <td>0.335</td>\n",
       "      <td>0.409</td>\n",
       "    </tr>\n",
       "    <tr>\n",
       "      <th>23</th>\n",
       "      <td>R, G</td>\n",
       "      <td>0.0000</td>\n",
       "      <td>0.0010</td>\n",
       "      <td>0.437</td>\n",
       "      <td>0.414</td>\n",
       "      <td>0.623</td>\n",
       "    </tr>\n",
       "  </tbody>\n",
       "</table>\n",
       "</div>"
      ],
      "text/plain": [
       "               Channels  Weight Decay      LR     F1  Precision  Recall\n",
       "0   G, NDVI, NIR, R, RE        0.0005  0.0001  0.327      0.345   0.465\n",
       "1         R, G, RE, NIR        0.0005  0.0001  0.378      0.705   0.358\n",
       "2             G, NIR, R        0.0005  0.0001  0.357      0.500   0.348\n",
       "3                   CIR        0.0005  0.0001  0.404      0.428   0.403\n",
       "4                  NDVI        0.0005  0.0001  0.331      0.339   0.456\n",
       "5                  R, G        0.0005  0.0001  0.357      0.390   0.434\n",
       "6   G, NDVI, NIR, R, RE        0.0000  0.0001  0.338      0.391   0.496\n",
       "7         R, G, RE, NIR        0.0000  0.0001  0.372      0.574   0.356\n",
       "8             G, NIR, R        0.0000  0.0001  0.372      0.444   0.482\n",
       "9                   CIR        0.0000  0.0001  0.369      0.399   0.358\n",
       "10                 NDVI        0.0000  0.0001  0.325      0.355   0.529\n",
       "11                 R, G        0.0000  0.0001  0.387      0.510   0.494\n",
       "12  G, NDVI, NIR, R, RE        0.0005  0.0010  0.337      0.428   0.512\n",
       "13        R, G, RE, NIR        0.0005  0.0010  0.378      0.416   0.369\n",
       "14            G, NIR, R        0.0005  0.0010  0.400      0.543   0.378\n",
       "15                  CIR        0.0005  0.0010  0.326      0.341   0.450\n",
       "16                 NDVI        0.0005  0.0010  0.329      0.339   0.501\n",
       "17                 R, G        0.0005  0.0010  0.388      0.484   0.406\n",
       "18  G, NDVI, NIR, R, RE        0.0000  0.0010  0.340      0.370   0.506\n",
       "19        R, G, RE, NIR        0.0000  0.0010  0.483      0.484   0.576\n",
       "20            G, NIR, R        0.0000  0.0010  0.382      0.492   0.453\n",
       "21                  CIR        0.0000  0.0010  0.342      0.380   0.484\n",
       "22                 NDVI        0.0000  0.0010  0.331      0.335   0.409\n",
       "23                 R, G        0.0000  0.0010  0.437      0.414   0.623"
      ]
     },
     "execution_count": 14,
     "metadata": {},
     "output_type": "execute_result"
    }
   ],
   "source": [
    "selected_runs"
   ]
  },
  {
   "cell_type": "code",
   "execution_count": 15,
   "metadata": {
    "collapsed": false,
    "pycharm": {
     "name": "#%%\n"
    }
   },
   "outputs": [
    {
     "data": {
      "text/html": [
       "<div>\n",
       "<style scoped>\n",
       "    .dataframe tbody tr th:only-of-type {\n",
       "        vertical-align: middle;\n",
       "    }\n",
       "\n",
       "    .dataframe tbody tr th {\n",
       "        vertical-align: top;\n",
       "    }\n",
       "\n",
       "    .dataframe thead th {\n",
       "        text-align: right;\n",
       "    }\n",
       "</style>\n",
       "<table border=\"1\" class=\"dataframe\">\n",
       "  <thead>\n",
       "    <tr style=\"text-align: right;\">\n",
       "      <th></th>\n",
       "      <th>Channels</th>\n",
       "      <th>Weight Decay</th>\n",
       "      <th>LR</th>\n",
       "      <th>F1</th>\n",
       "      <th>Precision</th>\n",
       "      <th>Recall</th>\n",
       "    </tr>\n",
       "  </thead>\n",
       "  <tbody>\n",
       "    <tr>\n",
       "      <th>18</th>\n",
       "      <td>G, NDVI, NIR, R, RE</td>\n",
       "      <td>0.0000</td>\n",
       "      <td>0.0010</td>\n",
       "      <td>0.340</td>\n",
       "      <td>0.370</td>\n",
       "      <td>0.506</td>\n",
       "    </tr>\n",
       "    <tr>\n",
       "      <th>19</th>\n",
       "      <td>R, G, RE, NIR</td>\n",
       "      <td>0.0000</td>\n",
       "      <td>0.0010</td>\n",
       "      <td>0.483</td>\n",
       "      <td>0.484</td>\n",
       "      <td>0.576</td>\n",
       "    </tr>\n",
       "    <tr>\n",
       "      <th>14</th>\n",
       "      <td>G, NIR, R</td>\n",
       "      <td>0.0005</td>\n",
       "      <td>0.0010</td>\n",
       "      <td>0.400</td>\n",
       "      <td>0.543</td>\n",
       "      <td>0.378</td>\n",
       "    </tr>\n",
       "    <tr>\n",
       "      <th>23</th>\n",
       "      <td>R, G</td>\n",
       "      <td>0.0000</td>\n",
       "      <td>0.0010</td>\n",
       "      <td>0.437</td>\n",
       "      <td>0.414</td>\n",
       "      <td>0.623</td>\n",
       "    </tr>\n",
       "    <tr>\n",
       "      <th>3</th>\n",
       "      <td>CIR</td>\n",
       "      <td>0.0005</td>\n",
       "      <td>0.0001</td>\n",
       "      <td>0.404</td>\n",
       "      <td>0.428</td>\n",
       "      <td>0.403</td>\n",
       "    </tr>\n",
       "    <tr>\n",
       "      <th>4</th>\n",
       "      <td>NDVI</td>\n",
       "      <td>0.0005</td>\n",
       "      <td>0.0001</td>\n",
       "      <td>0.331</td>\n",
       "      <td>0.339</td>\n",
       "      <td>0.456</td>\n",
       "    </tr>\n",
       "    <tr>\n",
       "      <th>22</th>\n",
       "      <td>NDVI</td>\n",
       "      <td>0.0000</td>\n",
       "      <td>0.0010</td>\n",
       "      <td>0.331</td>\n",
       "      <td>0.335</td>\n",
       "      <td>0.409</td>\n",
       "    </tr>\n",
       "  </tbody>\n",
       "</table>\n",
       "</div>"
      ],
      "text/plain": [
       "               Channels  Weight Decay      LR     F1  Precision  Recall\n",
       "18  G, NDVI, NIR, R, RE        0.0000  0.0010  0.340      0.370   0.506\n",
       "19        R, G, RE, NIR        0.0000  0.0010  0.483      0.484   0.576\n",
       "14            G, NIR, R        0.0005  0.0010  0.400      0.543   0.378\n",
       "23                 R, G        0.0000  0.0010  0.437      0.414   0.623\n",
       "3                   CIR        0.0005  0.0001  0.404      0.428   0.403\n",
       "4                  NDVI        0.0005  0.0001  0.331      0.339   0.456\n",
       "22                 NDVI        0.0000  0.0010  0.331      0.335   0.409"
      ]
     },
     "execution_count": 15,
     "metadata": {},
     "output_type": "execute_result"
    }
   ],
   "source": [
    "best_runs"
   ]
  },
  {
   "cell_type": "code",
   "execution_count": null,
   "metadata": {
    "collapsed": false,
    "pycharm": {
     "name": "#%%\n"
    }
   },
   "outputs": [],
   "source": [
    "best_runs.to_csv(\"../../exps/lawin.csv\")"
   ]
  },
  {
   "cell_type": "code",
   "execution_count": null,
   "metadata": {
    "collapsed": false,
    "pycharm": {
     "name": "#%%\n"
    }
   },
   "outputs": [],
   "source": [
    "selected_runs.to_csv(\"../../exps/lawin-complete.csv\")"
   ]
  },
  {
   "attachments": {},
   "cell_type": "markdown",
   "metadata": {
    "collapsed": false,
    "pycharm": {
     "name": "#%% md\n"
    }
   },
   "source": [
    "## Lawin Aug"
   ]
  },
  {
   "cell_type": "code",
   "execution_count": null,
   "metadata": {
    "collapsed": false,
    "pycharm": {
     "name": "#%%\n"
    }
   },
   "outputs": [],
   "source": [
    "filters = {\n",
    "    'group': 'LawinAugPatience'\n",
    "}\n",
    "selected_cols = [\n",
    "    'in_params.dataset.channels',\n",
    "    'in_params.train_params.optimizer_params.weight_decay',\n",
    "    'in_params.train_params.initial_lr',\n",
    "    'f1',\n",
    "    'precision',\n",
    "    'recall'\n",
    "]\n",
    "roundings = ['F1', 'Precision', 'Recall']"
   ]
  },
  {
   "cell_type": "code",
   "execution_count": null,
   "metadata": {
    "collapsed": false,
    "pycharm": {
     "name": "#%%\n"
    }
   },
   "outputs": [],
   "source": [
    "runs_df = get_runs(filters)\n",
    "remove_hyp(runs_df)"
   ]
  },
  {
   "cell_type": "code",
   "execution_count": null,
   "metadata": {
    "collapsed": false,
    "pycharm": {
     "name": "#%%\n"
    }
   },
   "outputs": [],
   "source": [
    "runs_df"
   ]
  },
  {
   "cell_type": "code",
   "execution_count": null,
   "metadata": {
    "collapsed": false,
    "pycharm": {
     "name": "#%%\n"
    }
   },
   "outputs": [],
   "source": [
    "projected_runs = runs_df[\n",
    "    selected_cols\n",
    "]\n",
    "# selected_runs = projected_runs[projected_runs['in_params.model.params.backbone'] == 'MiT-B0']\n",
    "selected_runs = projected_runs"
   ]
  },
  {
   "cell_type": "code",
   "execution_count": null,
   "metadata": {
    "collapsed": false,
    "pycharm": {
     "name": "#%%\n"
    }
   },
   "outputs": [],
   "source": [
    "selected_runs.rename(columns=renamings, inplace=True)\n",
    "selected_runs[roundings] = selected_runs[roundings].round(3)\n",
    "selected_runs = selected_runs.applymap(lambda x: ', '.join(x) if isinstance(x, list) else x)"
   ]
  },
  {
   "cell_type": "code",
   "execution_count": null,
   "metadata": {
    "collapsed": false,
    "pycharm": {
     "name": "#%%\n"
    }
   },
   "outputs": [],
   "source": [
    "idx = selected_runs.groupby(by='Channels')['F1'].transform(max) == selected_runs['F1']\n",
    "best_runs = selected_runs[idx]\n",
    "best_runs.sort_values(by=\"Channels\", key=lambda x: x.apply(lambda k: channels_ordering[k]), inplace=True)"
   ]
  },
  {
   "cell_type": "code",
   "execution_count": null,
   "metadata": {
    "collapsed": false,
    "pycharm": {
     "name": "#%%\n"
    }
   },
   "outputs": [],
   "source": [
    "best_runs.to_csv(\"../../exps/lawin_aug.csv\")"
   ]
  },
  {
   "cell_type": "code",
   "execution_count": null,
   "metadata": {
    "collapsed": false,
    "pycharm": {
     "name": "#%%\n"
    }
   },
   "outputs": [],
   "source": [
    "selected_runs.to_csv(\"../../exps/lawin_aug-complete.csv\")"
   ]
  },
  {
   "attachments": {},
   "cell_type": "markdown",
   "metadata": {
    "collapsed": false,
    "pycharm": {
     "name": "#%% md\n"
    }
   },
   "source": [
    "## Lawin Pretrained"
   ]
  },
  {
   "cell_type": "code",
   "execution_count": null,
   "metadata": {
    "collapsed": false,
    "pycharm": {
     "name": "#%%\n"
    }
   },
   "outputs": [],
   "source": [
    "filters = {\n",
    "    '$or': [{'group': 'LawinPretrained'}, {'group': 'LawinFrozen'}]\n",
    "}\n",
    "selected_cols = [\n",
    "    'in_params.dataset.channels',\n",
    "    'in_params.train_params.optimizer_params.weight_decay',\n",
    "    'in_params.train_params.initial_lr',\n",
    "    'in_params.train_params.freeze_pretrained',\n",
    "    'in_params.model.params.backbone',\n",
    "    'f1',\n",
    "    'precision',\n",
    "    'recall'\n",
    "]\n",
    "roundings = ['F1', 'Precision', 'Recall']"
   ]
  },
  {
   "cell_type": "code",
   "execution_count": null,
   "metadata": {
    "collapsed": false,
    "pycharm": {
     "name": "#%%\n"
    }
   },
   "outputs": [],
   "source": [
    "runs_df = get_runs(filters)\n",
    "remove_hyp(runs_df)"
   ]
  },
  {
   "cell_type": "code",
   "execution_count": null,
   "metadata": {
    "collapsed": false,
    "pycharm": {
     "name": "#%%\n"
    }
   },
   "outputs": [],
   "source": [
    "runs_df"
   ]
  },
  {
   "cell_type": "code",
   "execution_count": null,
   "metadata": {
    "collapsed": false,
    "pycharm": {
     "name": "#%%\n"
    }
   },
   "outputs": [],
   "source": [
    "projected_runs = runs_df[\n",
    "    selected_cols\n",
    "]\n",
    "# selected_runs = projected_runs[projected_runs['in_params.model.params.backbone'] == 'MiT-B0']\n",
    "selected_runs = projected_runs"
   ]
  },
  {
   "cell_type": "code",
   "execution_count": null,
   "metadata": {
    "collapsed": false,
    "pycharm": {
     "name": "#%%\n"
    }
   },
   "outputs": [],
   "source": [
    "selected_runs.rename(columns=renamings, inplace=True)\n",
    "rename_values(selected_runs, value_renamings)\n",
    "selected_runs[roundings] = selected_runs[roundings].round(5)\n",
    "selected_runs = selected_runs.applymap(lambda x: ', '.join(x) if isinstance(x, list) else x)"
   ]
  },
  {
   "cell_type": "code",
   "execution_count": null,
   "metadata": {
    "collapsed": false,
    "pycharm": {
     "name": "#%%\n"
    }
   },
   "outputs": [],
   "source": [
    "idx = selected_runs.groupby(by=['Channels', 'Strategy'])['F1'].transform(max) == selected_runs['F1']\n",
    "best_runs = selected_runs[idx]\n",
    "best_runs.sort_values(by=['Strategy', 'Channels'], key=lambda x: x.apply(lambda k: channels_ordering[k]), inplace=True)\n",
    "best_runs[roundings] = best_runs[roundings].round(3)\n",
    "selected_runs[roundings] = selected_runs[roundings].round(3)"
   ]
  },
  {
   "cell_type": "code",
   "execution_count": null,
   "metadata": {
    "collapsed": false,
    "pycharm": {
     "name": "#%%\n"
    }
   },
   "outputs": [],
   "source": [
    "best_runs"
   ]
  },
  {
   "cell_type": "code",
   "execution_count": null,
   "metadata": {
    "collapsed": false,
    "pycharm": {
     "name": "#%%\n"
    }
   },
   "outputs": [],
   "source": [
    "best_runs.to_csv(\"../../exps/lawin_pretrained.csv\")\n",
    "selected_runs.to_csv(\"../../exps/lawin_pretrained-complete.csv\")"
   ]
  },
  {
   "attachments": {},
   "cell_type": "markdown",
   "metadata": {
    "collapsed": false,
    "pycharm": {
     "name": "#%% md\n"
    }
   },
   "source": [
    "## Focal"
   ]
  },
  {
   "cell_type": "code",
   "execution_count": null,
   "metadata": {
    "collapsed": false,
    "pycharm": {
     "name": "#%%\n"
    }
   },
   "outputs": [],
   "source": [
    "filters = {\n",
    "    'group': 'Focal'\n",
    "}\n",
    "selected_cols = [\n",
    "    'in_params.dataset.channels',\n",
    "    'in_params.train_params.freeze_pretrained',\n",
    "    'in_params.train_params.loss.params.gamma',\n",
    "    'in_params.model.params.backbone',\n",
    "    'f1',\n",
    "    'precision',\n",
    "    'recall'\n",
    "]\n",
    "roundings = ['F1', 'Precision', 'Recall']"
   ]
  },
  {
   "cell_type": "code",
   "execution_count": null,
   "metadata": {
    "collapsed": false,
    "pycharm": {
     "name": "#%%\n"
    }
   },
   "outputs": [],
   "source": [
    "runs_df = get_runs(filters)\n",
    "remove_hyp(runs_df)"
   ]
  },
  {
   "cell_type": "code",
   "execution_count": null,
   "metadata": {
    "collapsed": false,
    "pycharm": {
     "name": "#%%\n"
    }
   },
   "outputs": [],
   "source": [
    "projected_runs = runs_df[\n",
    "    selected_cols\n",
    "]\n",
    "# selected_runs = projected_runs[projected_runs['in_params.model.params.backbone'] == 'MiT-B0']\n",
    "selected_runs = projected_runs"
   ]
  },
  {
   "cell_type": "code",
   "execution_count": null,
   "metadata": {
    "collapsed": false,
    "pycharm": {
     "name": "#%%\n"
    }
   },
   "outputs": [],
   "source": [
    "selected_runs.rename(columns=renamings, inplace=True)\n",
    "rename_values(selected_runs, value_renamings)\n",
    "selected_runs[roundings] = selected_runs[roundings].round(5)\n",
    "selected_runs = selected_runs.applymap(lambda x: ', '.join(x) if isinstance(x, list) else x)"
   ]
  },
  {
   "cell_type": "code",
   "execution_count": null,
   "metadata": {
    "collapsed": false,
    "pycharm": {
     "name": "#%%\n"
    }
   },
   "outputs": [],
   "source": [
    "idx = selected_runs.groupby(by=['Channels', 'Strategy'])['F1'].transform(max) == selected_runs['F1']\n",
    "best_runs = selected_runs[idx]\n",
    "best_runs.sort_values(by=['Strategy', 'Channels'], key=lambda x: x.apply(lambda k: channels_ordering[k]), inplace=True)\n",
    "best_runs[roundings] = best_runs[roundings].round(3)\n",
    "selected_runs[roundings] = selected_runs[roundings].round(3)"
   ]
  },
  {
   "cell_type": "code",
   "execution_count": null,
   "metadata": {
    "collapsed": false,
    "pycharm": {
     "name": "#%%\n"
    }
   },
   "outputs": [],
   "source": [
    "best_runs"
   ]
  },
  {
   "cell_type": "code",
   "execution_count": null,
   "metadata": {
    "collapsed": false,
    "pycharm": {
     "name": "#%%\n"
    }
   },
   "outputs": [],
   "source": [
    "best_runs.to_csv(\"../../exps/focal.csv\")\n",
    "selected_runs.to_csv(\"../../exps/focal-complete.csv\")"
   ]
  },
  {
   "attachments": {},
   "cell_type": "markdown",
   "metadata": {
    "collapsed": false,
    "pycharm": {
     "name": "#%% md\n"
    }
   },
   "source": [
    "## SRR"
   ]
  },
  {
   "cell_type": "code",
   "execution_count": null,
   "metadata": {
    "collapsed": false,
    "pycharm": {
     "name": "#%%\n"
    }
   },
   "outputs": [],
   "source": [
    "filters = {\n",
    "    'group': 'RandomRotation'\n",
    "}\n",
    "selected_cols = [\n",
    "    'in_params.dataset.channels',\n",
    "    'in_params.train_params.freeze_pretrained',\n",
    "    'in_params.train_params.loss.params.gamma',\n",
    "    'in_params.model.params.backbone',\n",
    "    'f1',\n",
    "    'precision',\n",
    "    'recall'\n",
    "]\n",
    "roundings = ['F1', 'Precision', 'Recall']"
   ]
  },
  {
   "cell_type": "code",
   "execution_count": null,
   "metadata": {
    "collapsed": false,
    "pycharm": {
     "name": "#%%\n"
    }
   },
   "outputs": [],
   "source": [
    "runs_df = get_runs(filters)\n",
    "remove_hyp(runs_df)"
   ]
  },
  {
   "cell_type": "code",
   "execution_count": null,
   "metadata": {
    "collapsed": false,
    "pycharm": {
     "name": "#%%\n"
    }
   },
   "outputs": [],
   "source": [
    "projected_runs = runs_df[\n",
    "    selected_cols\n",
    "]\n",
    "# selected_runs = projected_runs[projected_runs['in_params.model.params.backbone'] == 'MiT-B0']\n",
    "selected_runs = projected_runs\n",
    "selected_runs.fillna(\"\", inplace=True)"
   ]
  },
  {
   "cell_type": "code",
   "execution_count": null,
   "metadata": {
    "collapsed": false,
    "pycharm": {
     "name": "#%%\n"
    }
   },
   "outputs": [],
   "source": [
    "selected_runs.rename(columns=renamings, inplace=True)\n",
    "rename_values(selected_runs, value_renamings)\n",
    "selected_runs[roundings] = selected_runs[roundings].round(5)\n",
    "selected_runs = selected_runs.applymap(lambda x: ', '.join(x) if isinstance(x, list) else x)\n",
    "idx = selected_runs.groupby(by=['Channels', 'Strategy'])['F1'].transform(max) == selected_runs['F1']\n",
    "best_runs = selected_runs[idx]\n",
    "best_runs.sort_values(by=['Strategy', 'Channels'], key=lambda x: x.apply(lambda k: channels_ordering[k]), inplace=True)\n",
    "best_runs[roundings] = best_runs[roundings].round(3)\n",
    "selected_runs[roundings] = selected_runs[roundings].round(3)"
   ]
  },
  {
   "cell_type": "code",
   "execution_count": null,
   "metadata": {
    "collapsed": false,
    "pycharm": {
     "name": "#%%\n"
    }
   },
   "outputs": [],
   "source": [
    "best_runs"
   ]
  },
  {
   "cell_type": "code",
   "execution_count": null,
   "metadata": {
    "collapsed": false,
    "pycharm": {
     "name": "#%%\n"
    }
   },
   "outputs": [],
   "source": [
    "best_runs.to_csv(\"../../exps/rotation.csv\")\n",
    "selected_runs.to_csv(\"../../exps/rotation-complete.csv\")"
   ]
  },
  {
   "attachments": {},
   "cell_type": "markdown",
   "metadata": {
    "collapsed": false,
    "pycharm": {
     "name": "#%% md\n"
    }
   },
   "source": [
    "## Double Encoder"
   ]
  },
  {
   "cell_type": "code",
   "execution_count": null,
   "metadata": {
    "collapsed": false,
    "pycharm": {
     "name": "#%%\n"
    }
   },
   "outputs": [],
   "source": [
    "filters = {\n",
    "    'group': 'DoubleLawin'\n",
    "}\n",
    "selected_cols = [\n",
    "    'in_params.dataset.channels',\n",
    "    'in_params.train_params.freeze_pretrained',\n",
    "    'in_params.train_params.loss.params.gamma',\n",
    "    'f1',\n",
    "    'precision',\n",
    "    'recall'\n",
    "]\n",
    "roundings = ['F1', 'Precision', 'Recall']"
   ]
  },
  {
   "cell_type": "code",
   "execution_count": null,
   "metadata": {
    "collapsed": false,
    "pycharm": {
     "name": "#%%\n"
    }
   },
   "outputs": [],
   "source": [
    "runs_df = get_runs(filters)\n",
    "remove_hyp(runs_df)"
   ]
  },
  {
   "cell_type": "code",
   "execution_count": null,
   "metadata": {
    "collapsed": false,
    "pycharm": {
     "name": "#%%\n"
    }
   },
   "outputs": [],
   "source": [
    "runs_df"
   ]
  },
  {
   "cell_type": "code",
   "execution_count": null,
   "metadata": {
    "collapsed": false,
    "pycharm": {
     "name": "#%%\n"
    }
   },
   "outputs": [],
   "source": [
    "projected_runs = runs_df[\n",
    "    selected_cols\n",
    "]\n",
    "# selected_runs = projected_runs[projected_runs['in_params.model.params.backbone'] == 'MiT-B0']\n",
    "selected_runs = projected_runs\n",
    "selected_runs.fillna(\"\", inplace=True)"
   ]
  },
  {
   "cell_type": "code",
   "execution_count": null,
   "metadata": {
    "collapsed": false,
    "pycharm": {
     "name": "#%%\n"
    }
   },
   "outputs": [],
   "source": [
    "selected_runs.rename(columns=renamings, inplace=True)\n",
    "rename_values(selected_runs, value_renamings)\n",
    "selected_runs[roundings] = selected_runs[roundings].round(5)\n",
    "selected_runs = selected_runs.applymap(lambda x: ', '.join(x) if isinstance(x, list) else x)\n",
    "idx = selected_runs.groupby(by=['Channels', 'Strategy'])['F1'].transform(max) == selected_runs['F1']\n",
    "best_runs = selected_runs[idx]\n",
    "best_runs.sort_values(by=['Strategy', 'Channels'], key=lambda x: x.apply(lambda k: channels_ordering[k]), inplace=True)\n",
    "best_runs[roundings] = best_runs[roundings].round(3)\n",
    "selected_runs[roundings] = selected_runs[roundings].round(3)"
   ]
  },
  {
   "cell_type": "code",
   "execution_count": null,
   "metadata": {
    "collapsed": false,
    "pycharm": {
     "name": "#%%\n"
    }
   },
   "outputs": [],
   "source": [
    "best_runs"
   ]
  },
  {
   "cell_type": "code",
   "execution_count": null,
   "metadata": {
    "collapsed": false,
    "pycharm": {
     "name": "#%%\n"
    }
   },
   "outputs": [],
   "source": [
    "best_runs.to_csv(\"../../exps/doublelawin.csv\")\n",
    "selected_runs.to_csv(\"../../exps/doublelawin-complete.csv\")"
   ]
  },
  {
   "attachments": {},
   "cell_type": "markdown",
   "metadata": {
    "collapsed": false,
    "pycharm": {
     "name": "#%% md\n"
    }
   },
   "source": [
    "## Double Encoder Pre-Trained"
   ]
  },
  {
   "cell_type": "code",
   "execution_count": null,
   "metadata": {
    "collapsed": false,
    "pycharm": {
     "name": "#%%\n"
    }
   },
   "outputs": [],
   "source": [
    "filters = {\n",
    "    'group': 'DoubleLawinPretrained'\n",
    "}\n",
    "selected_cols = [\n",
    "    'in_params.dataset.channels',\n",
    "    'in_params.train_params.loss.params.gamma',\n",
    "    'train_WrapF1',\n",
    "    'f1',\n",
    "    'precision',\n",
    "    'recall'\n",
    "]\n",
    "roundings = ['Train F1', 'F1', 'Precision', 'Recall']"
   ]
  },
  {
   "cell_type": "code",
   "execution_count": null,
   "metadata": {
    "collapsed": false,
    "pycharm": {
     "name": "#%%\n"
    }
   },
   "outputs": [],
   "source": [
    "runs_df = get_runs(filters)\n",
    "remove_hyp(runs_df)"
   ]
  },
  {
   "cell_type": "code",
   "execution_count": null,
   "metadata": {
    "collapsed": false,
    "pycharm": {
     "name": "#%%\n"
    }
   },
   "outputs": [],
   "source": [
    "projected_runs = runs_df[\n",
    "    selected_cols\n",
    "]\n",
    "# selected_runs = projected_runs[projected_runs['in_params.model.params.backbone'] == 'MiT-B0']\n",
    "selected_runs = projected_runs"
   ]
  },
  {
   "cell_type": "code",
   "execution_count": null,
   "metadata": {
    "collapsed": false,
    "pycharm": {
     "name": "#%%\n"
    }
   },
   "outputs": [],
   "source": [
    "selected_runs.fillna(0, inplace=True)\n",
    "selected_runs.rename(columns=renamings, inplace=True)\n",
    "rename_values(selected_runs, value_renamings)\n",
    "selected_runs[roundings] = selected_runs[roundings].round(5)\n",
    "selected_runs = selected_runs.applymap(lambda x: ', '.join(x) if isinstance(x, list) else x)\n",
    "selected_runs['Gamma'] = selected_runs['Gamma'].astype(float).astype(int)"
   ]
  },
  {
   "cell_type": "code",
   "execution_count": null,
   "metadata": {
    "collapsed": false,
    "pycharm": {
     "name": "#%%\n"
    }
   },
   "outputs": [],
   "source": [
    "selected_runs"
   ]
  },
  {
   "cell_type": "code",
   "execution_count": null,
   "metadata": {
    "collapsed": false,
    "pycharm": {
     "name": "#%%\n"
    }
   },
   "outputs": [],
   "source": [
    "idx = selected_runs.groupby(by=['Channels'])['F1'].transform(max) == selected_runs['F1']\n",
    "best_runs = selected_runs[idx]\n",
    "best_runs.sort_values(by=['Channels'], key=lambda x: x.apply(lambda k: channels_ordering[k]), inplace=True)\n",
    "best_runs[roundings] = best_runs[roundings].round(3)\n",
    "selected_runs[roundings] = selected_runs[roundings].round(3)"
   ]
  },
  {
   "cell_type": "code",
   "execution_count": null,
   "metadata": {
    "collapsed": false,
    "pycharm": {
     "name": "#%%\n"
    }
   },
   "outputs": [],
   "source": [
    "best_runs"
   ]
  },
  {
   "cell_type": "code",
   "execution_count": null,
   "metadata": {
    "collapsed": false,
    "pycharm": {
     "name": "#%%\n"
    }
   },
   "outputs": [],
   "source": [
    "selected_runs.mean()"
   ]
  },
  {
   "cell_type": "code",
   "execution_count": null,
   "metadata": {
    "collapsed": false,
    "pycharm": {
     "name": "#%%\n"
    }
   },
   "outputs": [],
   "source": [
    "selected_runs.groupby(by=['Gamma']).mean()"
   ]
  },
  {
   "cell_type": "code",
   "execution_count": null,
   "metadata": {
    "collapsed": false,
    "pycharm": {
     "name": "#%%\n"
    }
   },
   "outputs": [],
   "source": [
    "selected_runs.to_csv(\"../../exps/doublelawinpretrained-complete.csv\")\n",
    "best_runs.to_csv(\"../../exps/doublelawinpretrained.csv\")"
   ]
  },
  {
   "attachments": {},
   "cell_type": "markdown",
   "metadata": {
    "collapsed": false,
    "pycharm": {
     "name": "#%% md\n"
    }
   },
   "source": [
    "## Double Encoder Pre-Trained Drop"
   ]
  },
  {
   "cell_type": "code",
   "execution_count": null,
   "metadata": {
    "collapsed": false,
    "pycharm": {
     "name": "#%%\n"
    }
   },
   "outputs": [],
   "source": [
    "filters = {\n",
    "    'group': 'DLPretrainedDrop'\n",
    "}\n",
    "selected_cols = [\n",
    "    'in_params.dataset.channels',\n",
    "    'in_params.model.params.backbone',\n",
    "    'in_params.train_params.loss.params.gamma',\n",
    "    'train_WrapF1',\n",
    "    'f1',\n",
    "    'precision',\n",
    "    'recall'\n",
    "]\n",
    "roundings = ['F1', 'Precision', 'Recall', 'Train F1']"
   ]
  },
  {
   "cell_type": "code",
   "execution_count": null,
   "metadata": {
    "collapsed": false,
    "pycharm": {
     "name": "#%%\n"
    }
   },
   "outputs": [],
   "source": [
    "runs_df = get_runs(filters)\n",
    "remove_hyp(runs_df)"
   ]
  },
  {
   "cell_type": "code",
   "execution_count": null,
   "metadata": {
    "collapsed": false,
    "pycharm": {
     "name": "#%%\n"
    }
   },
   "outputs": [],
   "source": [
    "projected_runs = runs_df[\n",
    "    selected_cols\n",
    "]\n",
    "# selected_runs = projected_runs[projected_runs['in_params.model.params.backbone'] == 'MiT-B0']\n",
    "selected_runs = projected_runs"
   ]
  },
  {
   "cell_type": "code",
   "execution_count": null,
   "metadata": {
    "collapsed": false,
    "pycharm": {
     "name": "#%%\n"
    }
   },
   "outputs": [],
   "source": [
    "selected_runs.fillna(\"\", inplace=True)\n",
    "selected_runs.rename(columns=renamings, inplace=True)\n",
    "rename_values(selected_runs, value_renamings)\n",
    "selected_runs[roundings] = selected_runs[roundings].round(5)\n",
    "selected_runs = selected_runs.applymap(lambda x: ', '.join(x) if isinstance(x, list) else x)"
   ]
  },
  {
   "cell_type": "code",
   "execution_count": null,
   "metadata": {
    "collapsed": false,
    "pycharm": {
     "name": "#%%\n"
    }
   },
   "outputs": [],
   "source": [
    "selected_runs"
   ]
  },
  {
   "cell_type": "code",
   "execution_count": null,
   "metadata": {
    "collapsed": false,
    "pycharm": {
     "name": "#%%\n"
    }
   },
   "outputs": [],
   "source": [
    "idx = selected_runs.groupby(by=['Channels'])['F1'].transform(max) == selected_runs['F1']\n",
    "best_runs = selected_runs[idx]\n",
    "best_runs.sort_values(by=['Channels'], key=lambda x: x.apply(lambda k: channels_ordering[k]), inplace=True)\n",
    "best_runs[roundings] = best_runs[roundings].round(3)\n",
    "selected_runs[roundings] = selected_runs[roundings].round(3)"
   ]
  },
  {
   "cell_type": "code",
   "execution_count": null,
   "metadata": {
    "collapsed": false,
    "pycharm": {
     "name": "#%%\n"
    }
   },
   "outputs": [],
   "source": [
    "best_runs"
   ]
  },
  {
   "cell_type": "code",
   "execution_count": null,
   "metadata": {
    "collapsed": false,
    "pycharm": {
     "name": "#%%\n"
    }
   },
   "outputs": [],
   "source": [
    "selected_runs.groupby(by=['Gamma']).mean()"
   ]
  },
  {
   "cell_type": "code",
   "execution_count": null,
   "metadata": {
    "collapsed": false,
    "pycharm": {
     "name": "#%%\n"
    }
   },
   "outputs": [],
   "source": [
    "selected_runs.mean()"
   ]
  },
  {
   "cell_type": "code",
   "execution_count": null,
   "metadata": {
    "collapsed": false,
    "pycharm": {
     "name": "#%%\n"
    }
   },
   "outputs": [],
   "source": [
    "selected_runs.to_csv(\"../../exps/dlpretraineddrop-complete.csv\")\n",
    "best_runs.to_csv(\"../../exps/dlpretraineddrop.csv\")"
   ]
  },
  {
   "cell_type": "code",
   "execution_count": null,
   "metadata": {
    "collapsed": false,
    "pycharm": {
     "name": "#%%\n"
    }
   },
   "outputs": [],
   "source": []
  },
  {
   "attachments": {},
   "cell_type": "markdown",
   "metadata": {
    "collapsed": false,
    "pycharm": {
     "name": "#%% md\n"
    }
   },
   "source": [
    "## RGB Weights"
   ]
  },
  {
   "cell_type": "code",
   "execution_count": null,
   "metadata": {
    "collapsed": false,
    "pycharm": {
     "name": "#%%\n"
    }
   },
   "outputs": [],
   "source": [
    "filters = {\n",
    "    'group': 'RedEdge'\n",
    "}\n",
    "selected_cols = [\n",
    "    'in_params.dataset.channels',\n",
    "    'in_params.model.params.backbone',\n",
    "    'in_params.train_params.freeze_pretrained',\n",
    "    'in_params.train_params.loss.params.gamma',\n",
    "    'in_params.model.params.main_pretrained',\n",
    "    'f1',\n",
    "    'precision',\n",
    "    'recall'\n",
    "]\n",
    "roundings = ['F1', 'Precision', 'Recall']"
   ]
  },
  {
   "cell_type": "code",
   "execution_count": null,
   "metadata": {
    "collapsed": false,
    "pycharm": {
     "name": "#%%\n"
    }
   },
   "outputs": [],
   "source": [
    "runs_df = get_runs(filters)\n",
    "remove_hyp(runs_df)"
   ]
  },
  {
   "cell_type": "code",
   "execution_count": null,
   "metadata": {
    "collapsed": false,
    "pycharm": {
     "name": "#%%\n"
    }
   },
   "outputs": [],
   "source": [
    "projected_runs = runs_df[\n",
    "    selected_cols\n",
    "]\n",
    "# selected_runs = projected_runs[projected_runs['in_params.model.params.backbone'] == 'MiT-B0']\n",
    "selected_runs = projected_runs"
   ]
  },
  {
   "cell_type": "code",
   "execution_count": null,
   "metadata": {
    "collapsed": false,
    "pycharm": {
     "name": "#%%\n"
    }
   },
   "outputs": [],
   "source": [
    "selected_runs.fillna(0, inplace=True)\n",
    "selected_runs.rename(columns=renamings, inplace=True)\n",
    "selected_runs['Gamma'] = selected_runs['Gamma'].astype(float).astype(int)\n",
    "rename_values(selected_runs, value_renamings)\n",
    "selected_runs[roundings] = selected_runs[roundings].round(5)\n",
    "selected_runs = selected_runs.applymap(lambda x: ', '.join(x) if isinstance(x, list) else x)\n",
    "selected_runs[roundings] = selected_runs[roundings].round(3)\n",
    "selected_runs.sort_values(by=['Backbone', 'Channels', 'Strategy', 'Used Weights'], key=lambda x: x.apply(lambda k: channels_ordering[k]), inplace=True)"
   ]
  },
  {
   "cell_type": "code",
   "execution_count": null,
   "metadata": {
    "collapsed": false,
    "pycharm": {
     "name": "#%%\n"
    }
   },
   "outputs": [],
   "source": [
    "selected_runs"
   ]
  },
  {
   "cell_type": "code",
   "execution_count": null,
   "metadata": {
    "collapsed": false,
    "pycharm": {
     "name": "#%%\n"
    }
   },
   "outputs": [],
   "source": [
    "selected_runs.to_csv(\"../../exps/rgb_weights-complete.csv\")"
   ]
  },
  {
   "cell_type": "code",
   "execution_count": null,
   "metadata": {
    "collapsed": false,
    "pycharm": {
     "name": "#%%\n"
    }
   },
   "outputs": [],
   "source": [
    "filters = {\n",
    "    '$or': [{'group': 'RedEdge'}, {'group': 'RandomRotation'}]\n",
    "}\n",
    "selected_cols = [\n",
    "    'in_params.dataset.channels',\n",
    "    'in_params.model.params.backbone',\n",
    "    'in_params.train_params.freeze_pretrained',\n",
    "    'in_params.model.params.main_pretrained',\n",
    "    'f1',\n",
    "]\n",
    "roundings = ['F1']"
   ]
  },
  {
   "cell_type": "code",
   "execution_count": null,
   "metadata": {
    "collapsed": false,
    "pycharm": {
     "name": "#%%\n"
    }
   },
   "outputs": [],
   "source": [
    "runs_df = get_runs(filters)\n",
    "remove_hyp(runs_df)\n",
    "projected_runs = runs_df[\n",
    "    selected_cols\n",
    "]\n",
    "selected_runs = projected_runs"
   ]
  },
  {
   "cell_type": "code",
   "execution_count": null,
   "metadata": {
    "collapsed": false,
    "pycharm": {
     "name": "#%%\n"
    }
   },
   "outputs": [],
   "source": [
    "selected_runs.rename(columns=renamings, inplace=True)\n",
    "selected_runs.loc[(selected_runs['Channels'] == 'CIR') & selected_runs['Used Weights'].isna(), 'Used Weights'] = 'RGB'\n",
    "selected_runs.loc[(selected_runs['Channels'].isin([['NDVI']])) & selected_runs['Used Weights'].isna(), 'Used Weights'] = 'R'\n",
    "selected_runs.drop(selected_runs[selected_runs['Channels'].isin([['R', 'G']])].index, inplace=True)"
   ]
  },
  {
   "cell_type": "code",
   "execution_count": null,
   "metadata": {
    "collapsed": false,
    "pycharm": {
     "name": "#%%\n"
    }
   },
   "outputs": [],
   "source": [
    "rename_values(selected_runs, value_renamings)\n",
    "selected_runs[roundings] = selected_runs[roundings].round(5)\n",
    "selected_runs = selected_runs.applymap(lambda x: ', '.join(x) if isinstance(x, list) else x)\n",
    "selected_runs[roundings] = selected_runs[roundings].round(3)\n",
    "selected_runs.sort_values(by=['Backbone', 'Channels', 'Used Weights'],\n",
    "                          key=lambda x: x.apply(lambda k: channels_ordering[k]), inplace=True)"
   ]
  },
  {
   "cell_type": "code",
   "execution_count": null,
   "metadata": {
    "collapsed": false,
    "pycharm": {
     "name": "#%%\n"
    }
   },
   "outputs": [],
   "source": [
    "idx = selected_runs.groupby(by=['Channels', 'Strategy', 'Used Weights'])['F1'].transform(max) == selected_runs['F1']\n",
    "best_runs = selected_runs[idx]\n",
    "best_runs.sort_values(by=['Channels', 'Strategy'], key=lambda x: x.apply(lambda k: channels_ordering[k]), inplace=True)\n",
    "best_runs[roundings] = best_runs[roundings].round(3)"
   ]
  },
  {
   "cell_type": "code",
   "execution_count": null,
   "metadata": {
    "collapsed": false,
    "pycharm": {
     "name": "#%%\n"
    }
   },
   "outputs": [],
   "source": [
    "best_runs"
   ]
  },
  {
   "cell_type": "code",
   "execution_count": null,
   "metadata": {
    "collapsed": false,
    "pycharm": {
     "name": "#%%\n"
    }
   },
   "outputs": [],
   "source": [
    "compare_runs = best_runs.merge(best_runs, on=['Channels', 'Strategy'])\n",
    "compare_runs.drop(compare_runs[compare_runs['Used Weights_x'] == compare_runs['Used Weights_y']].index, inplace=True)\n",
    "compare_runs.drop(compare_runs[compare_runs['Used Weights_x'] == 'G, G, R'].index, inplace=True)\n",
    "compare_runs.drop(compare_runs[compare_runs['Used Weights_x'] == 'G'].index, inplace=True)\n",
    "compare_runs"
   ]
  },
  {
   "cell_type": "code",
   "execution_count": null,
   "metadata": {
    "collapsed": false,
    "pycharm": {
     "name": "#%%\n"
    }
   },
   "outputs": [],
   "source": [
    "complete = best_runs[best_runs['Channels'] == 'R, G, NIR, RE']\n",
    "complete.rename(columns={'Gamma': 'Gamma_y', 'F1': 'F1_y', 'Used Weights': 'Used Weights_y', 'Backbone': 'Backbone_x'}, inplace=True)\n",
    "compare_runs = compare_runs.append(complete)\n",
    "compare_runs.fillna(\"\", inplace=True)\n",
    "compare_runs"
   ]
  },
  {
   "cell_type": "code",
   "execution_count": null,
   "metadata": {
    "collapsed": false,
    "pycharm": {
     "name": "#%%\n"
    }
   },
   "outputs": [],
   "source": [
    "compare_runs.to_csv(\"../../exps/rgb_weights.csv\")"
   ]
  },
  {
   "cell_type": "code",
   "execution_count": null,
   "metadata": {
    "collapsed": false,
    "pycharm": {
     "name": "#%%\n"
    }
   },
   "outputs": [],
   "source": []
  },
  {
   "attachments": {},
   "cell_type": "markdown",
   "metadata": {
    "collapsed": false,
    "pycharm": {
     "name": "#%% md\n"
    }
   },
   "source": [
    "## Laweed"
   ]
  },
  {
   "cell_type": "code",
   "execution_count": null,
   "metadata": {
    "collapsed": false,
    "pycharm": {
     "name": "#%%\n"
    }
   },
   "outputs": [],
   "source": [
    "filters = {\n",
    "    'group': 'Laweed'\n",
    "}\n",
    "selected_cols = [\n",
    "    'in_params.dataset.channels',\n",
    "    'in_params.train_params.loss.params.gamma',\n",
    "    'in_params.train_params.freeze_pretrained',\n",
    "    'in_params.model.params.main_pretrained',\n",
    "    'f1',\n",
    "    'precision',\n",
    "    'recall'\n",
    "]\n",
    "roundings = ['F1', 'Precision', 'Recall']"
   ]
  },
  {
   "cell_type": "code",
   "execution_count": null,
   "metadata": {
    "collapsed": false,
    "pycharm": {
     "name": "#%%\n"
    }
   },
   "outputs": [],
   "source": [
    "runs_df = get_runs(filters)\n",
    "remove_hyp(runs_df)"
   ]
  },
  {
   "cell_type": "code",
   "execution_count": null,
   "metadata": {
    "collapsed": false,
    "pycharm": {
     "name": "#%%\n"
    }
   },
   "outputs": [],
   "source": [
    "projected_runs = runs_df[\n",
    "    selected_cols\n",
    "]\n",
    "# selected_runs = projected_runs[projected_runs['in_params.model.params.backbone'] == 'MiT-B0']\n",
    "selected_runs = projected_runs"
   ]
  },
  {
   "cell_type": "code",
   "execution_count": null,
   "metadata": {
    "collapsed": false,
    "pycharm": {
     "name": "#%%\n"
    }
   },
   "outputs": [],
   "source": [
    "selected_runs.rename(columns=renamings, inplace=True)\n",
    "rename_values(selected_runs, value_renamings)\n",
    "selected_runs[roundings] = selected_runs[roundings].round(5)\n",
    "selected_runs.fillna(0, inplace=True)\n",
    "selected_runs = selected_runs.applymap(lambda x: ', '.join(x) if isinstance(x, list) else x)\n",
    "idx = selected_runs.groupby(by=['Channels', 'Strategy'])['F1'].transform(max) == selected_runs['F1']\n",
    "best_runs = selected_runs[idx]\n",
    "best_runs.sort_values(by=['Strategy', 'Channels'], key=lambda x: x.apply(lambda k: channels_ordering[k]), inplace=True)\n",
    "best_runs[roundings] = best_runs[roundings].round(3)\n",
    "selected_runs[roundings] = selected_runs[roundings].round(3)"
   ]
  },
  {
   "cell_type": "code",
   "execution_count": null,
   "metadata": {
    "collapsed": false,
    "pycharm": {
     "name": "#%%\n"
    }
   },
   "outputs": [],
   "source": [
    "selected_runs"
   ]
  },
  {
   "cell_type": "code",
   "execution_count": null,
   "metadata": {
    "collapsed": false,
    "pycharm": {
     "name": "#%%\n"
    }
   },
   "outputs": [],
   "source": [
    "best_runs"
   ]
  },
  {
   "cell_type": "code",
   "execution_count": null,
   "metadata": {
    "collapsed": false,
    "pycharm": {
     "name": "#%%\n"
    }
   },
   "outputs": [],
   "source": [
    "selected_runs.to_csv(\"../../exps/laweed-complete.csv\")"
   ]
  },
  {
   "cell_type": "code",
   "execution_count": null,
   "metadata": {
    "collapsed": false,
    "pycharm": {
     "name": "#%%\n"
    }
   },
   "outputs": [],
   "source": [
    "filters = {\n",
    "    '$and': [\n",
    "        {'$or': [{'group': 'Laweed'}, {'group': 'RandomRotation'}, {'group': 'RedEdge'}]},\n",
    "        {'config.in_params.model.params.backbone': 'MiT-B0'}\n",
    "    ]\n",
    "}\n",
    "selected_cols = [\n",
    "    'in_params.dataset.channels',\n",
    "    'in_params.train_params.loss.params.gamma',\n",
    "    'in_params.train_params.freeze_pretrained',\n",
    "    'in_params.model.params.main_pretrained',\n",
    "    'in_params.model.name',\n",
    "    'f1',\n",
    "]\n",
    "roundings = ['F1']"
   ]
  },
  {
   "cell_type": "code",
   "execution_count": null,
   "metadata": {
    "collapsed": false,
    "pycharm": {
     "name": "#%%\n"
    }
   },
   "outputs": [],
   "source": [
    "runs_df = get_runs(filters)\n",
    "remove_hyp(runs_df)\n",
    "projected_runs = runs_df[\n",
    "    selected_cols\n",
    "]\n",
    "selected_runs = projected_runs\n",
    "selected_runs"
   ]
  },
  {
   "cell_type": "code",
   "execution_count": null,
   "metadata": {
    "collapsed": false,
    "pycharm": {
     "name": "#%%\n"
    }
   },
   "outputs": [],
   "source": [
    "selected_runs.rename(columns=renamings, inplace=True)\n",
    "rename_values(selected_runs, value_renamings)\n",
    "selected_runs[roundings] = selected_runs[roundings].round(5)\n",
    "selected_runs['Gamma'].fillna(0, inplace=True)\n",
    "selected_runs = selected_runs.applymap(lambda x: ', '.join(x) if isinstance(x, list) else x)\n",
    "\n",
    "selected_runs[roundings] = selected_runs[roundings].round(3)\n",
    "selected_runs.sort_values(by=['Channels'],\n",
    "                          key=lambda x: x.apply(lambda k: channels_ordering[k]), inplace=True)\n",
    "selected_runs.loc[(selected_runs['Channels'] == 'CIR') & selected_runs['Used Weights'].isna(), 'Used Weights'] = 'RGB'\n",
    "selected_runs.loc[(selected_runs['Channels'].isin([['NDVI']])) & selected_runs['Used Weights'].isna(), 'Used Weights'] = 'R'"
   ]
  },
  {
   "cell_type": "code",
   "execution_count": null,
   "metadata": {
    "collapsed": false,
    "pycharm": {
     "name": "#%%\n"
    }
   },
   "outputs": [],
   "source": [
    "idx = selected_runs.groupby(by=['Channels', 'Model'])['F1'].transform(max) == selected_runs['F1']\n",
    "best_runs = selected_runs[idx]\n",
    "best_runs.sort_values(by=['Model', 'Channels'], key=lambda x: x.apply(lambda k: channels_ordering[k]), inplace=True)\n",
    "best_runs[roundings] = best_runs[roundings].round(3)\n",
    "best_runs"
   ]
  },
  {
   "cell_type": "code",
   "execution_count": null,
   "metadata": {
    "collapsed": false,
    "pycharm": {
     "name": "#%%\n"
    }
   },
   "outputs": [],
   "source": [
    "compare_runs = best_runs.merge(best_runs, on=['Channels'])\n",
    "compare_runs.drop(compare_runs[compare_runs['Model_x'] == compare_runs['Model_y']].index, inplace=True)\n",
    "compare_runs.drop(compare_runs[compare_runs['Model_x'] == 'laweed'].index, inplace=True)\n",
    "compare_runs"
   ]
  },
  {
   "cell_type": "code",
   "execution_count": null,
   "metadata": {
    "collapsed": false,
    "pycharm": {
     "name": "#%%\n"
    }
   },
   "outputs": [],
   "source": [
    "compare_runs.drop(columns=['Model_x', 'Model_y'], inplace=True)\n",
    "compare_runs"
   ]
  },
  {
   "cell_type": "code",
   "execution_count": null,
   "metadata": {
    "collapsed": false,
    "pycharm": {
     "name": "#%%\n"
    }
   },
   "outputs": [],
   "source": [
    "compare_runs.to_csv(\"../../exps/laweed.csv\")"
   ]
  },
  {
   "cell_type": "code",
   "execution_count": null,
   "metadata": {
    "collapsed": false,
    "pycharm": {
     "name": "#%%\n"
    }
   },
   "outputs": [],
   "source": []
  },
  {
   "attachments": {},
   "cell_type": "markdown",
   "metadata": {
    "collapsed": false,
    "pycharm": {
     "name": "#%% md\n"
    }
   },
   "source": [
    "## Double Laweed"
   ]
  },
  {
   "cell_type": "code",
   "execution_count": null,
   "metadata": {
    "collapsed": false,
    "pycharm": {
     "name": "#%%\n"
    }
   },
   "outputs": [],
   "source": [
    "filters = {\n",
    "    '$or': [{'group': 'DoubleLaweedPrBatch'}, {'group': 'DoubleLaweedPrDropBatch'}]\n",
    "}\n",
    "selected_cols = [\n",
    "    'in_params.dataset.channels',\n",
    "    'in_params.train_params.loss.params.gamma',\n",
    "    'in_params.model.params.fusion_type',\n",
    "    'f1',\n",
    "    'precision',\n",
    "    'recall'\n",
    "]\n",
    "roundings = ['F1', 'Precision', 'Recall']"
   ]
  },
  {
   "cell_type": "code",
   "execution_count": null,
   "metadata": {
    "collapsed": false,
    "pycharm": {
     "name": "#%%\n"
    }
   },
   "outputs": [],
   "source": [
    "runs_df = get_runs(filters)\n",
    "remove_hyp(runs_df)"
   ]
  },
  {
   "cell_type": "code",
   "execution_count": null,
   "metadata": {
    "collapsed": false,
    "pycharm": {
     "name": "#%%\n"
    }
   },
   "outputs": [],
   "source": [
    "projected_runs = runs_df[\n",
    "    selected_cols\n",
    "]\n",
    "# selected_runs = projected_runs[projected_runs['in_params.model.params.backbone'] == 'MiT-B0']\n",
    "selected_runs = projected_runs"
   ]
  },
  {
   "cell_type": "code",
   "execution_count": null,
   "metadata": {
    "collapsed": false,
    "pycharm": {
     "name": "#%%\n"
    }
   },
   "outputs": [],
   "source": [
    "selected_runs.rename(columns=renamings, inplace=True)\n",
    "selected_runs['DropPath'].fillna('conv_sum', inplace=True)\n",
    "rename_values(selected_runs, value_renamings)\n",
    "selected_runs[roundings] = selected_runs[roundings].round(5)\n",
    "selected_runs['Gamma'].fillna(0, inplace=True)\n",
    "selected_runs = selected_runs.applymap(lambda x: ', '.join(x) if isinstance(x, list) else x)\n",
    "\n",
    "idx = selected_runs.groupby(by=['Channels'])['F1'].transform(max) == selected_runs['F1']\n",
    "best_runs = selected_runs[idx]\n",
    "best_runs.sort_values(by=['Channels'], key=lambda x: x.apply(lambda k: channels_ordering[k]), inplace=True)\n",
    "best_runs[roundings] = best_runs[roundings].round(3)\n",
    "selected_runs[roundings] = selected_runs[roundings].round(3)"
   ]
  },
  {
   "cell_type": "code",
   "execution_count": null,
   "metadata": {
    "collapsed": false,
    "pycharm": {
     "name": "#%%\n"
    }
   },
   "outputs": [],
   "source": [
    "selected_runs"
   ]
  },
  {
   "cell_type": "code",
   "execution_count": null,
   "metadata": {
    "collapsed": false,
    "pycharm": {
     "name": "#%%\n"
    }
   },
   "outputs": [],
   "source": [
    "selected_runs.to_csv(\"../../exps/doublelaweed-complete.csv\")"
   ]
  },
  {
   "cell_type": "code",
   "execution_count": null,
   "metadata": {
    "collapsed": false,
    "pycharm": {
     "name": "#%%\n"
    }
   },
   "outputs": [],
   "source": [
    "filters = {\n",
    "    '$or': [{'group': 'DoubleLaweedPrBatch'}, {'group': 'DoubleLaweedPrDropBatch'},{'group': 'DLPretrainedDrop'}]\n",
    "}\n",
    "selected_cols = [\n",
    "    'in_params.dataset.channels',\n",
    "    'in_params.train_params.loss.params.gamma',\n",
    "    'in_params.model.params.fusion_type',\n",
    "    'in_params.model.name',\n",
    "    'f1',\n",
    "]\n",
    "roundings = ['F1']\n",
    "runs_df = get_runs(filters)\n",
    "remove_hyp(runs_df)"
   ]
  },
  {
   "cell_type": "code",
   "execution_count": null,
   "metadata": {
    "collapsed": false,
    "pycharm": {
     "name": "#%%\n"
    }
   },
   "outputs": [],
   "source": [
    "projected_runs = runs_df[\n",
    "    selected_cols\n",
    "]\n",
    "selected_runs = projected_runs"
   ]
  },
  {
   "cell_type": "code",
   "execution_count": null,
   "metadata": {
    "collapsed": false,
    "pycharm": {
     "name": "#%%\n"
    }
   },
   "outputs": [],
   "source": [
    "selected_runs"
   ]
  },
  {
   "cell_type": "code",
   "execution_count": null,
   "metadata": {
    "collapsed": false,
    "pycharm": {
     "name": "#%%\n"
    }
   },
   "outputs": [],
   "source": [
    "selected_runs.rename(columns=renamings, inplace=True)\n",
    "selected_runs['DropPath'].fillna('conv_sum', inplace=True)\n",
    "rename_values(selected_runs, value_renamings)\n",
    "selected_runs[roundings] = selected_runs[roundings].round(5)\n",
    "selected_runs['Gamma'].fillna(0, inplace=True)\n",
    "selected_runs = selected_runs.applymap(lambda x: ', '.join(x) if isinstance(x, list) else x)\n",
    "\n",
    "selected_runs[roundings] = selected_runs[roundings].round(3)\n",
    "selected_runs.sort_values(by=['Channels'],\n",
    "                          key=lambda x: x.apply(lambda k: channels_ordering[k]), inplace=True)\n",
    "\n"
   ]
  },
  {
   "cell_type": "code",
   "execution_count": null,
   "metadata": {
    "collapsed": false,
    "pycharm": {
     "name": "#%%\n"
    }
   },
   "outputs": [],
   "source": [
    "idx = selected_runs.groupby(by=['Channels', 'Model'])['F1'].transform(max) == selected_runs['F1']\n",
    "best_runs = selected_runs[idx]\n",
    "best_runs.sort_values(by=['Model', 'Channels'], key=lambda x: x.apply(lambda k: channels_ordering[k]), inplace=True)\n",
    "best_runs[roundings] = best_runs[roundings].round(3)\n",
    "best_runs"
   ]
  },
  {
   "cell_type": "code",
   "execution_count": null,
   "metadata": {
    "collapsed": false,
    "pycharm": {
     "name": "#%%\n"
    }
   },
   "outputs": [],
   "source": [
    "compare_runs = best_runs.merge(best_runs, on=['Channels'])"
   ]
  },
  {
   "cell_type": "code",
   "execution_count": null,
   "metadata": {
    "collapsed": false,
    "pycharm": {
     "name": "#%%\n"
    }
   },
   "outputs": [],
   "source": [
    "compare_runs"
   ]
  },
  {
   "cell_type": "code",
   "execution_count": null,
   "metadata": {
    "collapsed": false,
    "pycharm": {
     "name": "#%%\n"
    }
   },
   "outputs": [],
   "source": [
    "compare_runs.drop(compare_runs[compare_runs['Model_x'] == compare_runs['Model_y']].index, inplace=True)\n",
    "compare_runs.drop(compare_runs[compare_runs['Model_x'] == 'doublelaweed'].index, inplace=True)\n",
    "compare_runs"
   ]
  },
  {
   "cell_type": "code",
   "execution_count": null,
   "metadata": {
    "collapsed": false,
    "pycharm": {
     "name": "#%%\n"
    }
   },
   "outputs": [],
   "source": [
    "compare_runs.to_csv(\"../../exps/doublelaweed.csv\")"
   ]
  },
  {
   "cell_type": "code",
   "execution_count": null,
   "metadata": {
    "collapsed": false,
    "pycharm": {
     "name": "#%%\n"
    }
   },
   "outputs": [],
   "source": []
  },
  {
   "attachments": {},
   "cell_type": "markdown",
   "metadata": {
    "collapsed": false,
    "pycharm": {
     "name": "#%% md\n"
    }
   },
   "source": [
    "# Final results"
   ]
  },
  {
   "cell_type": "code",
   "execution_count": null,
   "metadata": {
    "collapsed": false,
    "pycharm": {
     "name": "#%%\n"
    }
   },
   "outputs": [],
   "source": [
    "filters = {\n",
    "}\n",
    "selected_cols = [\n",
    "    'in_params.model.name',\n",
    "    'in_params.model.params.backbone',\n",
    "    'f1',\n",
    "]\n",
    "roundings = ['F1']\n",
    "runs_df = get_runs(filters)\n",
    "remove_hyp(runs_df)"
   ]
  },
  {
   "cell_type": "code",
   "execution_count": null,
   "metadata": {
    "collapsed": false,
    "pycharm": {
     "name": "#%%\n"
    }
   },
   "outputs": [],
   "source": [
    "projected_runs = runs_df[\n",
    "    selected_cols\n",
    "]\n",
    "selected_runs = projected_runs"
   ]
  },
  {
   "cell_type": "code",
   "execution_count": null,
   "metadata": {
    "collapsed": false,
    "pycharm": {
     "name": "#%%\n"
    }
   },
   "outputs": [],
   "source": [
    "selected_runs.rename(columns=renamings, inplace=True)\n",
    "rename_values(selected_runs, value_renamings)\n",
    "selected_runs[roundings] = selected_runs[roundings].round(5)\n",
    "selected_runs.fillna(0, inplace=True)\n",
    "selected_runs = selected_runs.applymap(lambda x: ', '.join(x) if isinstance(x, list) else x)\n",
    "idx = selected_runs.groupby(by=['Model', 'Backbone'])['F1'].transform(max) == selected_runs['F1']\n",
    "best_runs = selected_runs[idx]\n",
    "best_runs[roundings] = best_runs[roundings].round(3)\n",
    "selected_runs[roundings] = selected_runs[roundings].round(3)"
   ]
  },
  {
   "cell_type": "code",
   "execution_count": null,
   "metadata": {
    "collapsed": false,
    "pycharm": {
     "name": "#%%\n"
    }
   },
   "outputs": [],
   "source": [
    "best_runs"
   ]
  },
  {
   "cell_type": "code",
   "execution_count": null,
   "metadata": {
    "collapsed": false,
    "pycharm": {
     "name": "#%%\n"
    }
   },
   "outputs": [],
   "source": [
    "filters = {\n",
    "}\n",
    "selected_cols = [\n",
    "    'in_params.dataset.channels',\n",
    "    'in_params.model.name',\n",
    "    'in_params.model.params.backbone',\n",
    "    'f1',\n",
    "]\n",
    "roundings = ['F1']\n",
    "runs_df = get_runs(filters)\n",
    "remove_hyp(runs_df)\n",
    "\n",
    "projected_runs = runs_df[\n",
    "    selected_cols\n",
    "]\n",
    "selected_runs = projected_runs"
   ]
  },
  {
   "cell_type": "code",
   "execution_count": null,
   "metadata": {
    "collapsed": false,
    "pycharm": {
     "name": "#%%\n"
    }
   },
   "outputs": [],
   "source": [
    "selected_runs.rename(columns=renamings, inplace=True)\n",
    "rename_values(selected_runs, value_renamings)\n",
    "selected_runs[roundings] = selected_runs[roundings].round(5)\n",
    "selected_runs.fillna(0, inplace=True)\n",
    "selected_runs = selected_runs.applymap(lambda x: ', '.join(x) if isinstance(x, list) else x)\n",
    "idx = selected_runs.groupby(by=['Channels'])['F1'].transform(max) == selected_runs['F1']\n",
    "best_runs_channel = selected_runs[idx]\n",
    "best_runs_channel[roundings] = best_runs_channel[roundings].round(3)\n",
    "selected_runs[roundings] = selected_runs[roundings].round(3)\n",
    "best_runs_channel"
   ]
  },
  {
   "attachments": {},
   "cell_type": "markdown",
   "metadata": {},
   "source": [
    "## SplitLawin RedEdge"
   ]
  },
  {
   "cell_type": "code",
   "execution_count": 50,
   "metadata": {},
   "outputs": [
    {
     "data": {
      "text/plain": [
       "[]"
      ]
     },
     "metadata": {},
     "output_type": "display_data"
    }
   ],
   "source": [
    "filters = {\n",
    "    '$or': [{'group': 'SplitLawin'}, {'group': 'SplitLawinFineTune'}]\n",
    "}\n",
    "selected_cols = [\n",
    "    'in_params.model.name',\n",
    "    'in_params.model.params.fusion_type',\n",
    "    \"in_params.model.params.side_pretrained\",\n",
    "    'in_params.model.params.backbone',\n",
    "    'f1',\n",
    "]\n",
    "roundings = ['F1']\n",
    "runs_df = get_runs(filters, project=\"pasqualedem/weedmapping-rededge\")\n",
    "remove_hyp(runs_df)"
   ]
  },
  {
   "cell_type": "code",
   "execution_count": 51,
   "metadata": {},
   "outputs": [],
   "source": [
    "projected_runs = runs_df[\n",
    "    selected_cols\n",
    "]\n",
    "selected_runs = projected_runs"
   ]
  },
  {
   "cell_type": "code",
   "execution_count": 52,
   "metadata": {},
   "outputs": [
    {
     "data": {
      "text/html": [
       "<div>\n",
       "<style scoped>\n",
       "    .dataframe tbody tr th:only-of-type {\n",
       "        vertical-align: middle;\n",
       "    }\n",
       "\n",
       "    .dataframe tbody tr th {\n",
       "        vertical-align: top;\n",
       "    }\n",
       "\n",
       "    .dataframe thead th {\n",
       "        text-align: right;\n",
       "    }\n",
       "</style>\n",
       "<table border=\"1\" class=\"dataframe\">\n",
       "  <thead>\n",
       "    <tr style=\"text-align: right;\">\n",
       "      <th></th>\n",
       "      <th>in_params.model.name</th>\n",
       "      <th>in_params.model.params.fusion_type</th>\n",
       "      <th>in_params.model.params.side_pretrained</th>\n",
       "      <th>in_params.model.params.backbone</th>\n",
       "      <th>f1</th>\n",
       "    </tr>\n",
       "  </thead>\n",
       "  <tbody>\n",
       "    <tr>\n",
       "      <th>0</th>\n",
       "      <td>wd/models/splitlawin</td>\n",
       "      <td>squeeze_excite</td>\n",
       "      <td>G</td>\n",
       "      <td>MiT-B1</td>\n",
       "      <td>0.857106</td>\n",
       "    </tr>\n",
       "    <tr>\n",
       "      <th>1</th>\n",
       "      <td>wd/models/splitlawin</td>\n",
       "      <td>squeeze_excite</td>\n",
       "      <td>G</td>\n",
       "      <td>MiT-B1</td>\n",
       "      <td>0.865151</td>\n",
       "    </tr>\n",
       "    <tr>\n",
       "      <th>2</th>\n",
       "      <td>wd/models/splitlawin</td>\n",
       "      <td>squeeze_excite</td>\n",
       "      <td>G</td>\n",
       "      <td>MiT-B1</td>\n",
       "      <td>0.856090</td>\n",
       "    </tr>\n",
       "    <tr>\n",
       "      <th>3</th>\n",
       "      <td>wd/models/splitlawin</td>\n",
       "      <td>squeeze_excite</td>\n",
       "      <td>G</td>\n",
       "      <td>MiT-B1</td>\n",
       "      <td>0.865646</td>\n",
       "    </tr>\n",
       "    <tr>\n",
       "      <th>4</th>\n",
       "      <td>wd/models/splitlawin</td>\n",
       "      <td>squeeze_excite</td>\n",
       "      <td>G</td>\n",
       "      <td>MiT-B0</td>\n",
       "      <td>0.864240</td>\n",
       "    </tr>\n",
       "    <tr>\n",
       "      <th>...</th>\n",
       "      <td>...</td>\n",
       "      <td>...</td>\n",
       "      <td>...</td>\n",
       "      <td>...</td>\n",
       "      <td>...</td>\n",
       "    </tr>\n",
       "    <tr>\n",
       "      <th>83</th>\n",
       "      <td>wd/models/splitlawin</td>\n",
       "      <td>squeeze_excite</td>\n",
       "      <td>G</td>\n",
       "      <td>MiT-B1</td>\n",
       "      <td>0.755687</td>\n",
       "    </tr>\n",
       "    <tr>\n",
       "      <th>84</th>\n",
       "      <td>wd/models/splitlawin</td>\n",
       "      <td>squeeze_excite</td>\n",
       "      <td>G</td>\n",
       "      <td>MiT-B0</td>\n",
       "      <td>0.740656</td>\n",
       "    </tr>\n",
       "    <tr>\n",
       "      <th>85</th>\n",
       "      <td>wd/models/splitlawin</td>\n",
       "      <td>squeeze_excite</td>\n",
       "      <td>G</td>\n",
       "      <td>MiT-B0</td>\n",
       "      <td>0.769373</td>\n",
       "    </tr>\n",
       "    <tr>\n",
       "      <th>86</th>\n",
       "      <td>wd/models/splitlawin</td>\n",
       "      <td>squeeze_excite</td>\n",
       "      <td>G</td>\n",
       "      <td>MiT-B0</td>\n",
       "      <td>0.742202</td>\n",
       "    </tr>\n",
       "    <tr>\n",
       "      <th>87</th>\n",
       "      <td>wd/models/splitlawin</td>\n",
       "      <td>squeeze_excite</td>\n",
       "      <td>G</td>\n",
       "      <td>MiT-B0</td>\n",
       "      <td>0.736097</td>\n",
       "    </tr>\n",
       "  </tbody>\n",
       "</table>\n",
       "<p>88 rows × 5 columns</p>\n",
       "</div>"
      ],
      "text/plain": [
       "    in_params.model.name in_params.model.params.fusion_type  \\\n",
       "0   wd/models/splitlawin                     squeeze_excite   \n",
       "1   wd/models/splitlawin                     squeeze_excite   \n",
       "2   wd/models/splitlawin                     squeeze_excite   \n",
       "3   wd/models/splitlawin                     squeeze_excite   \n",
       "4   wd/models/splitlawin                     squeeze_excite   \n",
       "..                   ...                                ...   \n",
       "83  wd/models/splitlawin                     squeeze_excite   \n",
       "84  wd/models/splitlawin                     squeeze_excite   \n",
       "85  wd/models/splitlawin                     squeeze_excite   \n",
       "86  wd/models/splitlawin                     squeeze_excite   \n",
       "87  wd/models/splitlawin                     squeeze_excite   \n",
       "\n",
       "   in_params.model.params.side_pretrained in_params.model.params.backbone  \\\n",
       "0                                       G                          MiT-B1   \n",
       "1                                       G                          MiT-B1   \n",
       "2                                       G                          MiT-B1   \n",
       "3                                       G                          MiT-B1   \n",
       "4                                       G                          MiT-B0   \n",
       "..                                    ...                             ...   \n",
       "83                                      G                          MiT-B1   \n",
       "84                                      G                          MiT-B0   \n",
       "85                                      G                          MiT-B0   \n",
       "86                                      G                          MiT-B0   \n",
       "87                                      G                          MiT-B0   \n",
       "\n",
       "          f1  \n",
       "0   0.857106  \n",
       "1   0.865151  \n",
       "2   0.856090  \n",
       "3   0.865646  \n",
       "4   0.864240  \n",
       "..       ...  \n",
       "83  0.755687  \n",
       "84  0.740656  \n",
       "85  0.769373  \n",
       "86  0.742202  \n",
       "87  0.736097  \n",
       "\n",
       "[88 rows x 5 columns]"
      ]
     },
     "execution_count": 52,
     "metadata": {},
     "output_type": "execute_result"
    }
   ],
   "source": [
    "selected_runs"
   ]
  },
  {
   "cell_type": "code",
   "execution_count": null,
   "metadata": {},
   "outputs": [],
   "source": [
    "selected_runs.rename(columns=renamings, inplace=True)\n",
    "rename_values(selected_runs, value_renamings)\n",
    "selected_runs[roundings] = selected_runs[roundings].round(5)\n",
    "selected_runs.fillna(0, inplace=True)\n",
    "selected_runs = selected_runs.applymap(lambda x: ', '.join(x) if isinstance(x, list) else x)\n",
    "idx = selected_runs.groupby(by=['Model', 'Backbone', \"Multispectral Pretraining\"])['F1'].transform(max) == selected_runs['F1']\n",
    "best_runs = selected_runs[idx]\n",
    "best_runs[roundings] = best_runs[roundings].round(3)\n",
    "selected_runs[roundings] = selected_runs[roundings].round(3)"
   ]
  },
  {
   "cell_type": "code",
   "execution_count": 54,
   "metadata": {},
   "outputs": [
    {
     "data": {
      "text/html": [
       "<div>\n",
       "<style scoped>\n",
       "    .dataframe tbody tr th:only-of-type {\n",
       "        vertical-align: middle;\n",
       "    }\n",
       "\n",
       "    .dataframe tbody tr th {\n",
       "        vertical-align: top;\n",
       "    }\n",
       "\n",
       "    .dataframe thead th {\n",
       "        text-align: right;\n",
       "    }\n",
       "</style>\n",
       "<table border=\"1\" class=\"dataframe\">\n",
       "  <thead>\n",
       "    <tr style=\"text-align: right;\">\n",
       "      <th></th>\n",
       "      <th>Model</th>\n",
       "      <th>Fusion</th>\n",
       "      <th>Multispectral Pretraining</th>\n",
       "      <th>Backbone</th>\n",
       "      <th>F1</th>\n",
       "    </tr>\n",
       "  </thead>\n",
       "  <tbody>\n",
       "    <tr>\n",
       "      <th>3</th>\n",
       "      <td>SplitLawin</td>\n",
       "      <td>squeeze_excite</td>\n",
       "      <td>G</td>\n",
       "      <td>MiT-B1</td>\n",
       "      <td>0.866</td>\n",
       "    </tr>\n",
       "    <tr>\n",
       "      <th>4</th>\n",
       "      <td>SplitLawin</td>\n",
       "      <td>squeeze_excite</td>\n",
       "      <td>G</td>\n",
       "      <td>MiT-B0</td>\n",
       "      <td>0.864</td>\n",
       "    </tr>\n",
       "    <tr>\n",
       "      <th>9</th>\n",
       "      <td>SplitLawin</td>\n",
       "      <td>squeeze_excite</td>\n",
       "      <td>0</td>\n",
       "      <td>MiT-B1</td>\n",
       "      <td>0.856</td>\n",
       "    </tr>\n",
       "    <tr>\n",
       "      <th>32</th>\n",
       "      <td>SplitLawin</td>\n",
       "      <td>conv_sum</td>\n",
       "      <td>0</td>\n",
       "      <td>MiT-B0</td>\n",
       "      <td>0.855</td>\n",
       "    </tr>\n",
       "  </tbody>\n",
       "</table>\n",
       "</div>"
      ],
      "text/plain": [
       "         Model          Fusion Multispectral Pretraining Backbone     F1\n",
       "3   SplitLawin  squeeze_excite                         G   MiT-B1  0.866\n",
       "4   SplitLawin  squeeze_excite                         G   MiT-B0  0.864\n",
       "9   SplitLawin  squeeze_excite                         0   MiT-B1  0.856\n",
       "32  SplitLawin        conv_sum                         0   MiT-B0  0.855"
      ]
     },
     "execution_count": 54,
     "metadata": {},
     "output_type": "execute_result"
    }
   ],
   "source": [
    "best_runs"
   ]
  },
  {
   "attachments": {},
   "cell_type": "markdown",
   "metadata": {},
   "source": [
    "### SplitLawin Sequoia"
   ]
  },
  {
   "cell_type": "code",
   "execution_count": 46,
   "metadata": {},
   "outputs": [
    {
     "data": {
      "text/plain": [
       "['hyper_params.arch_params.schema',\n",
       " 'hyper_params.arch_params.sync_bn',\n",
       " 'hyper_params.arch_params.backbone',\n",
       " 'hyper_params.arch_params.fusion_type',\n",
       " 'hyper_params.arch_params.in_channels',\n",
       " 'hyper_params.arch_params.num_classes',\n",
       " 'hyper_params.arch_params.out_channels',\n",
       " 'hyper_params.arch_params.main_channels',\n",
       " 'hyper_params.arch_params.input_channels',\n",
       " 'hyper_params.arch_params.output_channels',\n",
       " 'hyper_params.arch_params.side_pretrained',\n",
       " 'hyper_params.arch_params.backbone_pretrained',\n",
       " 'hyper_params.dataset_params.root',\n",
       " 'hyper_params.dataset_params.size',\n",
       " 'hyper_params.dataset_params.schema',\n",
       " 'hyper_params.dataset_params.s3_link',\n",
       " 'hyper_params.dataset_params.channels',\n",
       " 'hyper_params.dataset_params.hor_flip',\n",
       " 'hyper_params.dataset_params.ver_flip',\n",
       " 'hyper_params.dataset_params.crop_size',\n",
       " 'hyper_params.dataset_params.batch_size',\n",
       " 'hyper_params.dataset_params.dataset_dir',\n",
       " 'hyper_params.dataset_params.num_classes',\n",
       " 'hyper_params.dataset_params.num_workers',\n",
       " 'hyper_params.dataset_params.return_path',\n",
       " 'hyper_params.dataset_params.test_folders',\n",
       " 'hyper_params.dataset_params.train_folders',\n",
       " 'hyper_params.dataset_params.val_batch_size',\n",
       " 'hyper_params.dataset_params.test_batch_size',\n",
       " 'hyper_params.additional_log_items.multi_gpu',\n",
       " 'hyper_params.additional_log_items.initial_LR',\n",
       " 'hyper_params.additional_log_items.device_type',\n",
       " 'hyper_params.additional_log_items.num_devices',\n",
       " 'hyper_params.additional_log_items.installed_packages',\n",
       " 'hyper_params.training_hyperparams.ema',\n",
       " 'hyper_params.training_hyperparams.loss',\n",
       " 'hyper_params.training_hyperparams.seed',\n",
       " 'hyper_params.training_hyperparams.schema.if.properties.lr_mode.const',\n",
       " 'hyper_params.training_hyperparams.schema.then.required',\n",
       " 'hyper_params.training_hyperparams.schema.type',\n",
       " 'hyper_params.training_hyperparams.schema.required',\n",
       " 'hyper_params.training_hyperparams.schema.properties.initial_lr.type',\n",
       " 'hyper_params.training_hyperparams.schema.properties.initial_lr.maximum',\n",
       " 'hyper_params.training_hyperparams.schema.properties.initial_lr.exclusiveMinimum',\n",
       " 'hyper_params.training_hyperparams.schema.properties.max_epochs.type',\n",
       " 'hyper_params.training_hyperparams.schema.properties.max_epochs.minimum',\n",
       " 'hyper_params.training_hyperparams.schema.properties.lr_decay_factor.type',\n",
       " 'hyper_params.training_hyperparams.schema.properties.lr_decay_factor.maximum',\n",
       " 'hyper_params.training_hyperparams.schema.properties.lr_decay_factor.minimum',\n",
       " 'hyper_params.training_hyperparams.schema.properties.lr_warmup_epochs.type',\n",
       " 'hyper_params.training_hyperparams.schema.properties.lr_warmup_epochs.maximum',\n",
       " 'hyper_params.training_hyperparams.schema.properties.lr_warmup_epochs.minimum',\n",
       " 'hyper_params.training_hyperparams.lr_mode',\n",
       " 'hyper_params.training_hyperparams.optimizer',\n",
       " 'hyper_params.training_hyperparams.sg_logger',\n",
       " 'hyper_params.training_hyperparams.initial_lr',\n",
       " 'hyper_params.training_hyperparams.lr_updates',\n",
       " 'hyper_params.training_hyperparams.max_epochs',\n",
       " 'hyper_params.training_hyperparams.precise_bn',\n",
       " 'hyper_params.training_hyperparams.save_model',\n",
       " 'hyper_params.training_hyperparams.silent_mode',\n",
       " 'hyper_params.training_hyperparams.warmup_mode',\n",
       " 'hyper_params.training_hyperparams.load_opt_params',\n",
       " 'hyper_params.training_hyperparams.metric_to_watch',\n",
       " 'hyper_params.training_hyperparams.mixed_precision',\n",
       " 'hyper_params.training_hyperparams.phase_callbacks',\n",
       " 'hyper_params.training_hyperparams.batch_accumulate',\n",
       " 'hyper_params.training_hyperparams.lr_warmup_epochs',\n",
       " 'hyper_params.training_hyperparams.optimizer_params.weight_decay',\n",
       " 'hyper_params.training_hyperparams.sg_logger_params.tags',\n",
       " 'hyper_params.training_hyperparams.sg_logger_params.entity',\n",
       " 'hyper_params.training_hyperparams.sg_logger_params.project_name',\n",
       " 'hyper_params.training_hyperparams.sg_logger_params.save_logs_remote',\n",
       " 'hyper_params.training_hyperparams.sg_logger_params.tensorboard_port',\n",
       " 'hyper_params.training_hyperparams.sg_logger_params.launch_tensorboard',\n",
       " 'hyper_params.training_hyperparams.sg_logger_params.tb_files_user_prompt',\n",
       " 'hyper_params.training_hyperparams.sg_logger_params.save_checkpoints_remote',\n",
       " 'hyper_params.training_hyperparams.sg_logger_params.save_tensorboard_remote',\n",
       " 'hyper_params.training_hyperparams.tensorboard_port',\n",
       " 'hyper_params.training_hyperparams.freeze_pretrained',\n",
       " 'hyper_params.training_hyperparams.warmup_initial_lr',\n",
       " 'hyper_params.training_hyperparams.dataset_statistics',\n",
       " 'hyper_params.training_hyperparams.launch_tensorboard',\n",
       " 'hyper_params.training_hyperparams.train_metrics_list',\n",
       " 'hyper_params.training_hyperparams.valid_metrics_list',\n",
       " 'hyper_params.training_hyperparams.average_best_models',\n",
       " 'hyper_params.training_hyperparams.run_validation_freq',\n",
       " 'hyper_params.training_hyperparams.save_full_train_log',\n",
       " 'hyper_params.training_hyperparams.step_lr_update_freq',\n",
       " 'hyper_params.training_hyperparams.lr_schedule_function',\n",
       " 'hyper_params.training_hyperparams.save_ckpt_epoch_list',\n",
       " 'hyper_params.training_hyperparams.tb_files_user_prompt',\n",
       " 'hyper_params.training_hyperparams.cosine_final_lr_ratio',\n",
       " 'hyper_params.training_hyperparams.precise_bn_batch_size',\n",
       " 'hyper_params.training_hyperparams.log_installed_packages',\n",
       " 'hyper_params.training_hyperparams.save_tensorboard_to_s3',\n",
       " 'hyper_params.training_hyperparams.loss_logging_items_names',\n",
       " 'hyper_params.training_hyperparams.zero_weight_decay_on_bias_and_bn',\n",
       " 'hyper_params.training_hyperparams.greater_metric_to_watch_is_better']"
      ]
     },
     "metadata": {},
     "output_type": "display_data"
    }
   ],
   "source": [
    "filters = {\n",
    "    '$or': [{'group': 'SplitLawin'}, {'group': 'SplitLawinFineTune'}]\n",
    "}\n",
    "selected_cols = [\n",
    "    'in_params.model.name',\n",
    "    'in_params.model.params.fusion_type',\n",
    "    \"in_params.model.params.side_pretrained\",\n",
    "    'in_params.model.params.backbone',\n",
    "    'f1',\n",
    "]\n",
    "roundings = ['F1']\n",
    "runs_df = get_runs(filters, project=\"pasqualedem/weedmapping-sequoia\")\n",
    "rem = remove_hyp(runs_df)"
   ]
  },
  {
   "cell_type": "code",
   "execution_count": 47,
   "metadata": {},
   "outputs": [],
   "source": [
    "projected_runs = runs_df[\n",
    "    selected_cols\n",
    "]\n",
    "selected_runs = projected_runs"
   ]
  },
  {
   "cell_type": "code",
   "execution_count": 48,
   "metadata": {},
   "outputs": [
    {
     "name": "stderr",
     "output_type": "stream",
     "text": [
      "/tmp/ipykernel_56297/2600791792.py:1: SettingWithCopyWarning: \n",
      "A value is trying to be set on a copy of a slice from a DataFrame\n",
      "\n",
      "See the caveats in the documentation: https://pandas.pydata.org/pandas-docs/stable/user_guide/indexing.html#returning-a-view-versus-a-copy\n",
      "  selected_runs.rename(columns=renamings, inplace=True)\n",
      "/tmp/ipykernel_56297/1251592377.py:34: SettingWithCopyWarning: \n",
      "A value is trying to be set on a copy of a slice from a DataFrame.\n",
      "Try using .loc[row_indexer,col_indexer] = value instead\n",
      "\n",
      "See the caveats in the documentation: https://pandas.pydata.org/pandas-docs/stable/user_guide/indexing.html#returning-a-view-versus-a-copy\n",
      "  df[column] = df[column].replace(values)\n",
      "/tmp/ipykernel_56297/2600791792.py:3: SettingWithCopyWarning: \n",
      "A value is trying to be set on a copy of a slice from a DataFrame.\n",
      "Try using .loc[row_indexer,col_indexer] = value instead\n",
      "\n",
      "See the caveats in the documentation: https://pandas.pydata.org/pandas-docs/stable/user_guide/indexing.html#returning-a-view-versus-a-copy\n",
      "  selected_runs[roundings] = selected_runs[roundings].round(5)\n",
      "/tmp/ipykernel_56297/2600791792.py:4: SettingWithCopyWarning: \n",
      "A value is trying to be set on a copy of a slice from a DataFrame\n",
      "\n",
      "See the caveats in the documentation: https://pandas.pydata.org/pandas-docs/stable/user_guide/indexing.html#returning-a-view-versus-a-copy\n",
      "  selected_runs.fillna(0, inplace=True)\n",
      "/tmp/ipykernel_56297/2600791792.py:8: SettingWithCopyWarning: \n",
      "A value is trying to be set on a copy of a slice from a DataFrame.\n",
      "Try using .loc[row_indexer,col_indexer] = value instead\n",
      "\n",
      "See the caveats in the documentation: https://pandas.pydata.org/pandas-docs/stable/user_guide/indexing.html#returning-a-view-versus-a-copy\n",
      "  best_runs[roundings] = best_runs[roundings].round(3)\n"
     ]
    }
   ],
   "source": [
    "selected_runs.rename(columns=renamings, inplace=True)\n",
    "rename_values(selected_runs, value_renamings)\n",
    "selected_runs[roundings] = selected_runs[roundings].round(5)\n",
    "selected_runs.fillna(0, inplace=True)\n",
    "selected_runs = selected_runs.applymap(lambda x: ', '.join(x) if isinstance(x, list) else x)\n",
    "idx = selected_runs.groupby(by=['Model', 'Backbone', \"Multispectral Pretraining\"])['F1'].transform(max) == selected_runs['F1']\n",
    "best_runs = selected_runs[idx]\n",
    "best_runs[roundings] = best_runs[roundings].round(3)\n",
    "selected_runs[roundings] = selected_runs[roundings].round(3)"
   ]
  },
  {
   "cell_type": "code",
   "execution_count": 49,
   "metadata": {},
   "outputs": [
    {
     "data": {
      "text/html": [
       "<div>\n",
       "<style scoped>\n",
       "    .dataframe tbody tr th:only-of-type {\n",
       "        vertical-align: middle;\n",
       "    }\n",
       "\n",
       "    .dataframe tbody tr th {\n",
       "        vertical-align: top;\n",
       "    }\n",
       "\n",
       "    .dataframe thead th {\n",
       "        text-align: right;\n",
       "    }\n",
       "</style>\n",
       "<table border=\"1\" class=\"dataframe\">\n",
       "  <thead>\n",
       "    <tr style=\"text-align: right;\">\n",
       "      <th></th>\n",
       "      <th>Model</th>\n",
       "      <th>Fusion</th>\n",
       "      <th>Multispectral Pretraining</th>\n",
       "      <th>Backbone</th>\n",
       "      <th>F1</th>\n",
       "    </tr>\n",
       "  </thead>\n",
       "  <tbody>\n",
       "    <tr>\n",
       "      <th>12</th>\n",
       "      <td>SplitLawin</td>\n",
       "      <td>conv_sum</td>\n",
       "      <td>0</td>\n",
       "      <td>MiT-B1</td>\n",
       "      <td>0.571</td>\n",
       "    </tr>\n",
       "    <tr>\n",
       "      <th>18</th>\n",
       "      <td>SplitLawin</td>\n",
       "      <td>squeeze_excite</td>\n",
       "      <td>0</td>\n",
       "      <td>MiT-B0</td>\n",
       "      <td>0.582</td>\n",
       "    </tr>\n",
       "    <tr>\n",
       "      <th>37</th>\n",
       "      <td>SplitLawin</td>\n",
       "      <td>conv_sum_drop</td>\n",
       "      <td>G</td>\n",
       "      <td>MiT-B0</td>\n",
       "      <td>0.635</td>\n",
       "    </tr>\n",
       "    <tr>\n",
       "      <th>75</th>\n",
       "      <td>SplitLawin</td>\n",
       "      <td>conv_sum</td>\n",
       "      <td>G</td>\n",
       "      <td>MiT-B1</td>\n",
       "      <td>0.663</td>\n",
       "    </tr>\n",
       "  </tbody>\n",
       "</table>\n",
       "</div>"
      ],
      "text/plain": [
       "         Model          Fusion Multispectral Pretraining Backbone     F1\n",
       "12  SplitLawin        conv_sum                         0   MiT-B1  0.571\n",
       "18  SplitLawin  squeeze_excite                         0   MiT-B0  0.582\n",
       "37  SplitLawin   conv_sum_drop                         G   MiT-B0  0.635\n",
       "75  SplitLawin        conv_sum                         G   MiT-B1  0.663"
      ]
     },
     "execution_count": 49,
     "metadata": {},
     "output_type": "execute_result"
    }
   ],
   "source": [
    "best_runs"
   ]
  },
  {
   "cell_type": "code",
   "execution_count": null,
   "metadata": {},
   "outputs": [],
   "source": []
  }
 ],
 "metadata": {
  "kernelspec": {
   "display_name": "Python 3",
   "language": "python",
   "name": "python3"
  },
  "language_info": {
   "codemirror_mode": {
    "name": "ipython",
    "version": 3
   },
   "file_extension": ".py",
   "mimetype": "text/x-python",
   "name": "python",
   "nbconvert_exporter": "python",
   "pygments_lexer": "ipython3",
   "version": "3.8.10"
  }
 },
 "nbformat": 4,
 "nbformat_minor": 0
}
