{
 "cells": [
  {
   "cell_type": "code",
   "execution_count": 1,
   "metadata": {},
   "outputs": [],
   "source": [
    "import wandb\n",
    "import os\n",
    "import pandas as pd\n",
    "import numpy as np\n",
    "import json\n",
    "\n",
    "import matplotlib.pyplot as plt\n",
    "\n",
    "from PIL import Image"
   ]
  },
  {
   "cell_type": "code",
   "execution_count": 2,
   "metadata": {},
   "outputs": [],
   "source": [
    "api = wandb.Api()"
   ]
  },
  {
   "cell_type": "code",
   "execution_count": 55,
   "metadata": {},
   "outputs": [],
   "source": [
    "def get_runs(runname, project=\"pasqualedem/weedmapping-rededge\"):\n",
    "    # Project is specified by <entity/project-name>\n",
    "    return api.runs(project, filters={'display_name':runname})\n",
    "\n",
    "\n",
    "def get_table(run):\n",
    "    arts = run.logged_artifacts()\n",
    "    seg = [a for a in arts if \"test_seg\" in a.name][0]\n",
    "    seg.download()\n",
    "    root = seg._download_roots.pop()\n",
    "    table_json = json.load(open(os.path.join(root, \"test_seg.table.json\")))\n",
    "    table = pd.DataFrame(table_json[\"data\"], columns=table_json[\"columns\"])\n",
    "    table[\"Predictions\"] = table[\"Image\"].apply(lambda x: x['masks']['predictions']['path'])\n",
    "    table[\"Ground Truth\"] = table[\"Image\"].apply(lambda x: x['masks']['ground_truth']['path'])\n",
    "    table[\"Image\"] = table[\"Image\"].apply(lambda x: x['path'])\n",
    "    return table, root\n",
    "\n",
    "def get_image_pred_truth(root, row):\n",
    "    name = row[\"ID\"]\n",
    "    img = np.array(Image.open(os.path.join(root, row[\"Image\"])))\n",
    "    pred = np.array(Image.open(os.path.join(root, row[\"Predictions\"])))\n",
    "    truth = np.array(Image.open(os.path.join(root, row[\"Ground Truth\"])))\n",
    "    pred = convert_to_rgb(pred)\n",
    "    truth = convert_to_rgb(truth)\n",
    "    return name, img, pred, truth\n",
    "\n",
    "def convert_to_rgb(seg):\n",
    "    cmap = {0: (0, 0, 0), 1: (0, 255, 0), 2: (255, 0, 0)}\n",
    "    seg_rgb = np.zeros((seg.shape[0], seg.shape[1], 3), dtype=np.uint8)\n",
    "    for k, v in cmap.items():\n",
    "        seg_rgb[seg == k] = v\n",
    "    return seg_rgb\n",
    "\n",
    "def plot_range(table, root, start, end):\n",
    "    for i in range(start, end):\n",
    "        name, img, pred, truth = get_image_pred_truth(root, table.iloc[i])\n",
    "        plot_image_pred_truth(name, img, pred, truth)\n",
    "\n",
    "def plot_image_pred_truth(name, img, pred, truth):\n",
    "    fig, ax = plt.subplots(1, 3, figsize=(15, 5))\n",
    "    ax[0].imshow(img)\n",
    "    ax[0].set_title(\"Image\")\n",
    "    ax[1].imshow(pred)\n",
    "    ax[1].set_title(\"Predictions\")\n",
    "    ax[2].imshow(truth)\n",
    "    ax[2].set_title(\"Ground Truth\")\n",
    "    plt.suptitle(name)\n",
    "    plt.show()\n",
    "        \n",
    "def get_image_pred_truth_by_names(root, table, names):\n",
    "    rows = table[table[\"ID\"].isin(names)]\n",
    "    if len(rows) == 0:\n",
    "        table['ID'] = table['ID'].apply(lambda x: \"test_seg_\" + x)\n",
    "        rows = table[table[\"ID\"].isin(names)]\n",
    "    fun = lambda x: Image.fromarray(convert_to_rgb(np.array(Image.open(os.path.join(root, x)))))\n",
    "    rows['Image'] = rows['Image'].apply(lambda x: Image.open(os.path.join(root, x)))\n",
    "    rows['Predictions'] = rows['Predictions'].apply(fun)\n",
    "    rows['Ground Truth'] = rows['Ground Truth'].apply(fun)\n",
    "    return rows\n",
    "\n",
    "def save_image_pred_truth(root, destination, table, names, file_name):\n",
    "    rows = get_image_pred_truth_by_names(root, table, names)\n",
    "    for row in rows.iterrows():\n",
    "        idx, (name, img, pred, truth) = row\n",
    "        name, ext = os.path.splitext(name)\n",
    "        img.save(os.path.join(destination, name + \"_img.png\"))\n",
    "        pred.save(os.path.join(destination, file_name + name + \"_pred.png\"))\n",
    "        truth.save(os.path.join(destination, name + \"_truth.png\"))\n",
    "\n",
    "def save_image_pred_truth_of_run(runname, plot_names, file_name, project=\"pasqualedem/weedmapping-rededge\", destination=\"images\"):\n",
    "    runs = get_runs(runname, project)\n",
    "    for run in runs:\n",
    "        table, root = get_table(run)\n",
    "        save_image_pred_truth(root, destination, table, plot_names, file_name)"
   ]
  },
  {
   "attachments": {},
   "cell_type": "markdown",
   "metadata": {},
   "source": [
    "---"
   ]
  },
  {
   "cell_type": "code",
   "execution_count": 33,
   "metadata": {},
   "outputs": [],
   "source": [
    "run = get_runs(\"hearty-plant-115\", project=\"pasqualedem/weedmapping-rededge\")[0]"
   ]
  },
  {
   "cell_type": "code",
   "execution_count": 34,
   "metadata": {},
   "outputs": [
    {
     "name": "stderr",
     "output_type": "stream",
     "text": [
      "\u001b[34m\u001b[1mwandb\u001b[0m:   1048 of 1048 files downloaded.  \n"
     ]
    }
   ],
   "source": [
    "table, root = get_table(run)"
   ]
  },
  {
   "cell_type": "code",
   "execution_count": null,
   "metadata": {},
   "outputs": [],
   "source": [
    "plot_range(table, root, 0, 3)"
   ]
  },
  {
   "attachments": {},
   "cell_type": "markdown",
   "metadata": {},
   "source": [
    "---"
   ]
  },
  {
   "cell_type": "code",
   "execution_count": 56,
   "metadata": {},
   "outputs": [],
   "source": [
    "selected_plots = [\n",
    "    \"test_seg_003_frame0148_1.png\",\n",
    "    \"test_seg_003_frame0111_2.png\",\n",
    "    \"test_seg_003_frame0136_0.png\",\n",
    "    \"test_seg_003_frame0136_3.png\",\n",
    "    \"test_seg_003_frame0134_3.png\",\n",
    "]"
   ]
  },
  {
   "cell_type": "code",
   "execution_count": 57,
   "metadata": {},
   "outputs": [
    {
     "name": "stderr",
     "output_type": "stream",
     "text": [
      "\u001b[34m\u001b[1mwandb\u001b[0m:   1048 of 1048 files downloaded.  \n",
      "/tmp/ipykernel_401899/4054073006.py:56: SettingWithCopyWarning: \n",
      "A value is trying to be set on a copy of a slice from a DataFrame.\n",
      "Try using .loc[row_indexer,col_indexer] = value instead\n",
      "\n",
      "See the caveats in the documentation: https://pandas.pydata.org/pandas-docs/stable/user_guide/indexing.html#returning-a-view-versus-a-copy\n",
      "  rows['Image'] = rows['Image'].apply(lambda x: Image.open(os.path.join(root, x)))\n",
      "/tmp/ipykernel_401899/4054073006.py:57: SettingWithCopyWarning: \n",
      "A value is trying to be set on a copy of a slice from a DataFrame.\n",
      "Try using .loc[row_indexer,col_indexer] = value instead\n",
      "\n",
      "See the caveats in the documentation: https://pandas.pydata.org/pandas-docs/stable/user_guide/indexing.html#returning-a-view-versus-a-copy\n",
      "  rows['Predictions'] = rows['Predictions'].apply(fun)\n",
      "/tmp/ipykernel_401899/4054073006.py:58: SettingWithCopyWarning: \n",
      "A value is trying to be set on a copy of a slice from a DataFrame.\n",
      "Try using .loc[row_indexer,col_indexer] = value instead\n",
      "\n",
      "See the caveats in the documentation: https://pandas.pydata.org/pandas-docs/stable/user_guide/indexing.html#returning-a-view-versus-a-copy\n",
      "  rows['Ground Truth'] = rows['Ground Truth'].apply(fun)\n"
     ]
    }
   ],
   "source": [
    "destination = \"images\"\n",
    "os.makedirs(destination, exist_ok=True)\n",
    "save_image_pred_truth_of_run(\"hearty-plant-115\", plot_names=selected_plots, file_name=\"SplitLawin_\", destination=destination, project=\"pasqualedem/weedmapping-rededge\")"
   ]
  },
  {
   "cell_type": "code",
   "execution_count": 58,
   "metadata": {},
   "outputs": [
    {
     "name": "stderr",
     "output_type": "stream",
     "text": [
      "\u001b[34m\u001b[1mwandb\u001b[0m:   1051 of 1051 files downloaded.  \n",
      "/tmp/ipykernel_401899/4054073006.py:56: SettingWithCopyWarning: \n",
      "A value is trying to be set on a copy of a slice from a DataFrame.\n",
      "Try using .loc[row_indexer,col_indexer] = value instead\n",
      "\n",
      "See the caveats in the documentation: https://pandas.pydata.org/pandas-docs/stable/user_guide/indexing.html#returning-a-view-versus-a-copy\n",
      "  rows['Image'] = rows['Image'].apply(lambda x: Image.open(os.path.join(root, x)))\n",
      "/tmp/ipykernel_401899/4054073006.py:57: SettingWithCopyWarning: \n",
      "A value is trying to be set on a copy of a slice from a DataFrame.\n",
      "Try using .loc[row_indexer,col_indexer] = value instead\n",
      "\n",
      "See the caveats in the documentation: https://pandas.pydata.org/pandas-docs/stable/user_guide/indexing.html#returning-a-view-versus-a-copy\n",
      "  rows['Predictions'] = rows['Predictions'].apply(fun)\n",
      "/tmp/ipykernel_401899/4054073006.py:58: SettingWithCopyWarning: \n",
      "A value is trying to be set on a copy of a slice from a DataFrame.\n",
      "Try using .loc[row_indexer,col_indexer] = value instead\n",
      "\n",
      "See the caveats in the documentation: https://pandas.pydata.org/pandas-docs/stable/user_guide/indexing.html#returning-a-view-versus-a-copy\n",
      "  rows['Ground Truth'] = rows['Ground Truth'].apply(fun)\n"
     ]
    }
   ],
   "source": [
    "destination = \"images\"\n",
    "os.makedirs(destination, exist_ok=True)\n",
    "save_image_pred_truth_of_run(\"jumping-haze-94\", plot_names=selected_plots, file_name=\"DoubleLawin_\", destination=destination, project=\"pasqualedem/weedmapping-rededge\")"
   ]
  },
  {
   "cell_type": "code",
   "execution_count": 59,
   "metadata": {},
   "outputs": [
    {
     "name": "stderr",
     "output_type": "stream",
     "text": [
      "\u001b[34m\u001b[1mwandb\u001b[0m:   1055 of 1055 files downloaded.  \n",
      "/tmp/ipykernel_401899/4054073006.py:56: SettingWithCopyWarning: \n",
      "A value is trying to be set on a copy of a slice from a DataFrame.\n",
      "Try using .loc[row_indexer,col_indexer] = value instead\n",
      "\n",
      "See the caveats in the documentation: https://pandas.pydata.org/pandas-docs/stable/user_guide/indexing.html#returning-a-view-versus-a-copy\n",
      "  rows['Image'] = rows['Image'].apply(lambda x: Image.open(os.path.join(root, x)))\n",
      "/tmp/ipykernel_401899/4054073006.py:57: SettingWithCopyWarning: \n",
      "A value is trying to be set on a copy of a slice from a DataFrame.\n",
      "Try using .loc[row_indexer,col_indexer] = value instead\n",
      "\n",
      "See the caveats in the documentation: https://pandas.pydata.org/pandas-docs/stable/user_guide/indexing.html#returning-a-view-versus-a-copy\n",
      "  rows['Predictions'] = rows['Predictions'].apply(fun)\n",
      "/tmp/ipykernel_401899/4054073006.py:58: SettingWithCopyWarning: \n",
      "A value is trying to be set on a copy of a slice from a DataFrame.\n",
      "Try using .loc[row_indexer,col_indexer] = value instead\n",
      "\n",
      "See the caveats in the documentation: https://pandas.pydata.org/pandas-docs/stable/user_guide/indexing.html#returning-a-view-versus-a-copy\n",
      "  rows['Ground Truth'] = rows['Ground Truth'].apply(fun)\n"
     ]
    }
   ],
   "source": [
    "destination = \"images\"\n",
    "os.makedirs(destination, exist_ok=True)\n",
    "save_image_pred_truth_of_run(\"cosmic-surf-16\", plot_names=selected_plots, file_name=\"Lawin_\", destination=destination, project=\"pasqualedem/weedmapping-rededge\")"
   ]
  },
  {
   "cell_type": "code",
   "execution_count": null,
   "metadata": {},
   "outputs": [],
   "source": []
  }
 ],
 "metadata": {
  "kernelspec": {
   "display_name": "venv",
   "language": "python",
   "name": "python3"
  },
  "language_info": {
   "codemirror_mode": {
    "name": "ipython",
    "version": 3
   },
   "file_extension": ".py",
   "mimetype": "text/x-python",
   "name": "python",
   "nbconvert_exporter": "python",
   "pygments_lexer": "ipython3",
   "version": "3.8.10"
  },
  "orig_nbformat": 4
 },
 "nbformat": 4,
 "nbformat_minor": 2
}
